{
  "nbformat": 4,
  "nbformat_minor": 0,
  "metadata": {
    "colab": {
      "name": "05_Deep_CNN.ipynb",
      "private_outputs": true,
      "provenance": [],
      "collapsed_sections": []
    },
    "kernelspec": {
      "name": "python3",
      "display_name": "Python 3"
    },
    "language_info": {
      "name": "python"
    },
    "accelerator": "GPU"
  },
  "cells": [
    {
      "cell_type": "code",
      "metadata": {
        "id": "bwA-iyDHrtvC"
      },
      "source": [
        "import torch\n",
        "import torchvision\n",
        "import torch.nn as nn\n",
        "import numpy as np\n",
        "import torchvision.transforms as transforms\n",
        "import matplotlib.pyplot as plt\n",
        "\n",
        "# 우리가 사용할 컴퓨터를 check하는 부분, cpu/gpu 지원 받을지...\n",
        "device = torch.device(\"cuda\" if torch.cuda.is_available() else \"cpu\")\n",
        "device"
      ],
      "execution_count": null,
      "outputs": []
    },
    {
      "cell_type": "code",
      "metadata": {
        "id": "bcr9ezGLr1lk"
      },
      "source": [
        "# 하이퍼 파라미터들\n",
        "input_size = 784  # 28 * 28 * 1 = 784 (픽셀을 1차원으로 늘린다.)\n",
        "hidden_size = 500 # 은닉 계층의 unit 수(히든 레이어는 하나!)\n",
        "num_classes = 10 # 카테고리의 개수(deep learning의 output의 카테고리 개수)\n",
        "num_epochs = 5\n",
        "batch_size = 100\n",
        "learning_rate = 0.001"
      ],
      "execution_count": null,
      "outputs": []
    },
    {
      "cell_type": "code",
      "metadata": {
        "id": "LbGG1mdhr52-"
      },
      "source": [
        "# 데이터셋 로딩 -- 2번에 걸쳐서 로딩\n",
        "\n",
        "# 1step(데이터 다운로드)\n",
        "# train_dataset\n",
        "train_dataset = torchvision.datasets.MNIST(root=\"../../data\",\n",
        "                                           train = True,\n",
        "                                           transform = transforms.ToTensor(),\n",
        "                                           download = True # 스케일링해서 다운로드하겠다.\n",
        "                                           )\n",
        "# test_dataset\n",
        "test_dataset = torchvision.datasets.MNIST(root=\"../../data\",\n",
        "                                          train=False,\n",
        "                                          transform = transforms.ToTensor()\n",
        "                                          ) # 다운로드는 한번만 하면 된다.\n",
        "\n",
        "# 2step...DataLoader...BatchSize를 이용함(네트워크로 Load - 모델,머신 안으로 로딩)\n",
        "train_loader = torch.utils.data.DataLoader(dataset=train_dataset,\n",
        "                                           batch_size = batch_size,\n",
        "                                           shuffle = True\n",
        "                                           ) \n",
        "\n",
        "test_loader = torch.utils.data.DataLoader(dataset=test_dataset,\n",
        "                                           batch_size = batch_size,\n",
        "                                           shuffle = False # 테스트할 때는 굳이 shuffle 필요 없음\n",
        "                                           ) "
      ],
      "execution_count": null,
      "outputs": []
    },
    {
      "cell_type": "markdown",
      "metadata": {
        "id": "hj0_sVWDsSsi"
      },
      "source": [
        "## Convolution NeuralNet Model 생성"
      ]
    },
    {
      "cell_type": "markdown",
      "metadata": {
        "id": "biNLhRPJy9UK"
      },
      "source": [
        "1. VGG모델 표만들기\n",
        "2. 이 코드가 어떻게 바뀌는지 그림 그리기"
      ]
    },
    {
      "cell_type": "code",
      "metadata": {
        "id": "84j8dZ5Fr-PR"
      },
      "source": [
        "class ConvNet(nn.Module):\n",
        "    def __init__(self,num_classes=10):\n",
        "        super(ConvNet, self).__init__()\n",
        "        self.layer1 = nn.Sequential(\n",
        "            # 입력 채널수(1->흑백), 출력 채널수, 필터 사이즈, stride, padding\n",
        "            nn.Conv2d(1,16,kernel_size=5,stride=1,padding=2), # 커널 = 5=> 필터 5x5\n",
        "            nn.ReLU())\n",
        "        self.layer2 = nn.MaxPool2d(kernel_size=2, stride=2)\n",
        "        self.layer3 = nn.Sequential(\n",
        "            nn.Conv2d(16,32,kernel_size=5,stride=1, padding=2),\n",
        "            nn.ReLU()\n",
        "        )\n",
        "        self.layer4 = nn.MaxPool2d(kernel_size = 2,stride=2)\n",
        "        self.layer5 = nn.Linear(7*7*32,num_classes) # 인자값 : 입력, 출력\n",
        "        # CNN에서는 최종 분류할 때 FCN으로 함\n",
        "\n",
        "    def forward(self,x):\n",
        "        out = self.layer1(x)\n",
        "        out = self.layer2(out)\n",
        "        out = self.layer3(out)\n",
        "        out = self.layer4(out)\n",
        "        out = out.reshape(out.size(0),-1)\n",
        "        out = self.layer5(out)\n",
        "\n",
        "        return out"
      ],
      "execution_count": null,
      "outputs": []
    },
    {
      "cell_type": "code",
      "metadata": {
        "id": "maK3ktQswtVt"
      },
      "source": [
        "model = ConvNet(num_classes).to(device)\n",
        "loss_function = nn.CrossEntropyLoss()\n",
        "optimizer = torch.optim.Adam(model.parameters(),lr=learning_rate)"
      ],
      "execution_count": null,
      "outputs": []
    },
    {
      "cell_type": "code",
      "metadata": {
        "id": "WAu_F6hdxMaR"
      },
      "source": [
        "total_step = len(train_loader)\n",
        "for epoch in range(num_epochs):\n",
        "    for i,(images,labels) in enumerate(train_loader):\n",
        "        images = images.to(device)\n",
        "        labels = labels.to(device)\n",
        "        outputs = model(images)\n",
        "        loss = loss_function(outputs, labels)\n",
        "\n",
        "        optimizer.zero_grad()\n",
        "        loss.backward()\n",
        "        optimizer.step()\n",
        "\n",
        "        if (i+1) % 100 == 0:\n",
        "            print(\"Epoch[{}/{}], step [{}/{}], Loss:{:.4f}\".format(epoch+1,num_epochs,i+1,total_step,loss.item()))"
      ],
      "execution_count": null,
      "outputs": []
    },
    {
      "cell_type": "code",
      "metadata": {
        "id": "qk7fuq7vyOqF"
      },
      "source": [
        "with torch.no_grad(): # 실제로 학습할 필요가 없을 때 이 구문을 반드시 작성해야 한다.\n",
        "    correct = 0\n",
        "    total = 0\n",
        "\n",
        "    for images, labels in test_loader: # 100개씩 100번 돌아간다.\n",
        "        images = images.to(device)\n",
        "        labels = labels.to(device)\n",
        "\n",
        "        outputs = model(images)\n",
        "        _,predicted = torch.max(outputs.data,1)\n",
        "\n",
        "        total += labels.size(0)\n",
        "        correct += (predicted == labels).sum().item()\n",
        "        print(\"Accuracy of the Network on the Test images : {} %\".format(100*correct/total))"
      ],
      "execution_count": null,
      "outputs": []
    },
    {
      "cell_type": "code",
      "metadata": {
        "id": "gnJWJ_HEyiiK"
      },
      "source": [
        ""
      ],
      "execution_count": null,
      "outputs": []
    }
  ]
}