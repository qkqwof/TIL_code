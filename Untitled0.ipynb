{
  "nbformat": 4,
  "nbformat_minor": 0,
  "metadata": {
    "colab": {
      "name": "Untitled0.ipynb",
      "private_outputs": true,
      "provenance": [],
      "collapsed_sections": [],
      "authorship_tag": "ABX9TyO/IwoeZdbgiOE4KN5Gv4/h",
      "include_colab_link": true
    },
    "kernelspec": {
      "name": "python3",
      "display_name": "Python 3"
    },
    "language_info": {
      "name": "python"
    },
    "accelerator": "GPU"
  },
  "cells": [
    {
      "cell_type": "markdown",
      "metadata": {
        "id": "view-in-github",
        "colab_type": "text"
      },
      "source": [
        "<a href=\"https://colab.research.google.com/github/qkqwof/TIL_code/blob/master/Untitled0.ipynb\" target=\"_parent\"><img src=\"https://colab.research.google.com/assets/colab-badge.svg\" alt=\"Open In Colab\"/></a>"
      ]
    },
    {
      "cell_type": "code",
      "metadata": {
        "id": "ZwmWaMCVjqZj"
      },
      "source": [
        "import torch\n",
        "import torch.nn as nn\n",
        "import numpy as np\n",
        "import matplotlib.pyplot as plt"
      ],
      "execution_count": null,
      "outputs": []
    },
    {
      "cell_type": "code",
      "metadata": {
        "id": "5nZ-4_tLj9oV"
      },
      "source": [
        "input_size = 1 # 1차원 데이터\n",
        "output_size = 1 # 1차원 데이터\n",
        "num_epochs = 200 # 학습횟수\n",
        "learing_rate = 0.001\n",
        "\n",
        "x_train = np.array([[3.3], [4.4], [5.5], [6.71], [6.93], [4.168], \n",
        "                    [9.779], [6.182], [7.59], [2.167], [7.042], \n",
        "                    [10.791], [5.313], [7.997], [3.1]], dtype=np.float32)\n",
        "\n",
        "y_train = np.array([[1.7], [2.76], [2.09], [3.19], [1.694], [1.573], \n",
        "                    [3.366], [2.596], [2.53], [1.221], [2.827], \n",
        "                    [3.465], [1.65], [2.904], [1.3]], dtype=np.float32)\n",
        "\n",
        "x_train\n",
        "y_train\n",
        "\n",
        "model = nn.Linear(input_size,output_size)\n",
        "\n",
        "loss_Function = nn.MSELoss()\n",
        "optimizer = torch.optim.SGD(model.parameters(), lr=learing_rate)\n",
        "\n",
        "for epoch in range(num_epochs): # 100번 학습한다...for를 100번 반복\n",
        "    # numpy arrays를 torch의 Tensor로 만들어서 머신에 입력해야 한다.\n",
        "    inputs = torch.from_numpy(x_train) # X\n",
        "    targets = torch.from_numpy(y_train) # y\n",
        "    \n",
        "    #Forward Pass\n",
        "    pred = model(inputs)\n",
        "    loss = loss_Function(pred,targets)\n",
        "    \n",
        "    #Backward and Optimization\n",
        "    optimizer.zero_grad() # 기존의 값을 초기화(optimizer값) # 이 부분 가장 먼저 나와야 함\n",
        "    loss.backward()\n",
        "    optimizer.step() # 학습 진행\n",
        "    \n",
        "    if (epoch+1) % 5 == 0:\n",
        "        print(\"Epoch[{}/{}], Loss :{:4f}\".format(epoch+1,num_epochs,loss.item()))"
      ],
      "execution_count": null,
      "outputs": []
    },
    {
      "cell_type": "code",
      "metadata": {
        "id": "2fUrVkgTkT3Z"
      },
      "source": [
        "# 시각화 할 때는 Tensor에서 Numpy로 다시 만들어줘야 한다.\n",
        "predict = model(torch.from_numpy(x_train)).detach().numpy()\n",
        "\n",
        "plt.plot(x_train, y_train,'ro',label=\"Original Data\")\n",
        "plt.plot(x_train, predict,label = \"Predict Line\")\n",
        "plt.legend()\n",
        "plt.show()\n",
        "\n",
        "torch.save(model.state_dict(),\"model.ckpt\") #모델이 학습한 w값이 저장"
      ],
      "execution_count": null,
      "outputs": []
    },
    {
      "cell_type": "code",
      "metadata": {
        "id": "Drug5ECwkXo6"
      },
      "source": [
        ""
      ],
      "execution_count": null,
      "outputs": []
    }
  ]
}