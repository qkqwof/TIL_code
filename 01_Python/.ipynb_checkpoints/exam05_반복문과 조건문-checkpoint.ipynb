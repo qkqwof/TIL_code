{
 "cells": [
  {
   "cell_type": "markdown",
   "metadata": {},
   "source": [
    "### 행운의 로또번호는?\n",
    "\n",
    "    random 모듈에는 수를 임의로 추출할 수 있는 함수 randrange() 가 존재한다.\n",
    "    random.randrange(a,b) : a이상 b미만이 수를 임의로 뽑아서 반환해주는 함수\n",
    "    \n",
    "    로또 게임은 1~45까지의 숫자 중 임의의 6개 수를 맞추는 게임이다.\n",
    "    randrange() 를 이용해서 로또 번호를 맞춰보자!!"
   ]
  },
  {
   "cell_type": "markdown",
   "metadata": {},
   "source": [
    "### 로직 작성 방법\n",
    "    1. random 모듈을 먼저 import 한다.\n",
    "    2. 빈 리스트를 담은 변수 lotto를 만든다.\n",
    "    3. lotto 의 길이가 6이 될때까지 아래 과정을 수행한다.\n",
    "       1) 1~45까지의 수 중 하나를 임의로 받는다.\n",
    "       2) 만약 뽑은 수가 리스트 lotto에 없으면 lotto에 추가하고\n",
    "          있으면 다시 뽑는다\n",
    "       3) pass 키워드는 아무런 동작도 하지 않는 코드이다.\n",
    "          if 조건 만족 후 아무런 코드도 없다면 오류를 일으키기 \n",
    "          때문에 무의미하지만 pass키워드를 꼭 입력한다.\n",
    "    4. lotto 값을 정렬한다.\n",
    "    5. lotto를 출력하여 우리가 뽑은 로또번호를 확인한다."
   ]
  },
  {
   "cell_type": "code",
   "execution_count": null,
   "metadata": {},
   "outputs": [],
   "source": []
  },
  {
   "cell_type": "code",
   "execution_count": null,
   "metadata": {},
   "outputs": [],
   "source": []
  },
  {
   "cell_type": "code",
   "execution_count": null,
   "metadata": {},
   "outputs": [],
   "source": []
  },
  {
   "cell_type": "code",
   "execution_count": null,
   "metadata": {},
   "outputs": [],
   "source": []
  },
  {
   "cell_type": "code",
   "execution_count": null,
   "metadata": {},
   "outputs": [],
   "source": []
  }
 ],
 "metadata": {
  "kernelspec": {
   "display_name": "Python 3",
   "language": "python",
   "name": "python3"
  },
  "language_info": {
   "codemirror_mode": {
    "name": "ipython",
    "version": 3
   },
   "file_extension": ".py",
   "mimetype": "text/x-python",
   "name": "python",
   "nbconvert_exporter": "python",
   "pygments_lexer": "ipython3",
   "version": "3.8.5"
  }
 },
 "nbformat": 4,
 "nbformat_minor": 4
}
