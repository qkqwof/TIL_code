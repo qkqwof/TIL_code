{
 "cells": [
  {
   "cell_type": "markdown",
   "metadata": {},
   "source": [
    "### 이렇게 해봐요!!!\n",
    "    1. 다음 대응관계가 담긴 Dictionary를 하나 만들고 이를 변수 my_dict에 할당한다.\n",
    "        * \"사과\" --> \"apple\"\n",
    "        * \"바나나\" --> \"banana\"\n",
    "        * \"당근\" --> \"carrot\"\n",
    "    \n",
    "    2. 사과를 영어로 뭐하고 할까? \n",
    "       my_dict에서 \"사과\"를 Key로 넣어서 나온 값을 변수 var1에 넣는다.\n",
    "      \n",
    "    3. 당근은 싫어요! my_dict 에서 당근 - carrot을 제거한다.\n",
    "     \n",
    "    4. 체리는 좋아요! my_dict 에서 체리 - cherry를 추가한다."
   ]
  },
  {
   "cell_type": "code",
   "execution_count": 3,
   "metadata": {},
   "outputs": [
    {
     "data": {
      "text/plain": [
       "'사과'"
      ]
     },
     "execution_count": 3,
     "metadata": {},
     "output_type": "execute_result"
    }
   ],
   "source": [
    "my_dict = {\"사과\":\"apple\",\"바나나\":\"banana\",\"당근\":\"carrot\"}\n",
    "var1 = list(my_dict.keys())[0]\n",
    "var1"
   ]
  },
  {
   "cell_type": "code",
   "execution_count": 4,
   "metadata": {},
   "outputs": [
    {
     "data": {
      "text/plain": [
       "{'사과': 'apple', '바나나': 'banana'}"
      ]
     },
     "execution_count": 4,
     "metadata": {},
     "output_type": "execute_result"
    }
   ],
   "source": [
    "del my_dict[\"당근\"]\n",
    "my_dict"
   ]
  },
  {
   "cell_type": "code",
   "execution_count": 5,
   "metadata": {},
   "outputs": [],
   "source": [
    "addInfo = {\"체리\":\"cherry\"}\n",
    "\n",
    "my_dict.update(addInfo)"
   ]
  },
  {
   "cell_type": "code",
   "execution_count": 6,
   "metadata": {},
   "outputs": [
    {
     "data": {
      "text/plain": [
       "{'사과': 'apple', '바나나': 'banana', '체리': 'cherry'}"
      ]
     },
     "execution_count": 6,
     "metadata": {},
     "output_type": "execute_result"
    }
   ],
   "source": [
    "my_dict"
   ]
  },
  {
   "cell_type": "code",
   "execution_count": null,
   "metadata": {},
   "outputs": [],
   "source": []
  }
 ],
 "metadata": {
  "kernelspec": {
   "display_name": "Python 3",
   "language": "python",
   "name": "python3"
  },
  "language_info": {
   "codemirror_mode": {
    "name": "ipython",
    "version": 3
   },
   "file_extension": ".py",
   "mimetype": "text/x-python",
   "name": "python",
   "nbconvert_exporter": "python",
   "pygments_lexer": "ipython3",
   "version": "3.8.5"
  }
 },
 "nbformat": 4,
 "nbformat_minor": 4
}
