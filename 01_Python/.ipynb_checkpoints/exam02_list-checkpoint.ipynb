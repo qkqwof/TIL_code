{
 "cells": [
  {
   "cell_type": "markdown",
   "metadata": {},
   "source": [
    "### 환상의 나라로!\n",
    "    유진이는 국내 최고의 도시 용인에 있는 네버랜드에 도착했습니다.\n",
    "    네버랜드에는 정말 많은 놀이기구가 있어서 유진이는 특별한 순서로\n",
    "    놀이기구를 타기로 결정했습니다.\n",
    "    \n",
    "    각 놀이기구의 대기시간이 담긴 리스트가 인자로 주어졌을때,\n",
    "    유진이가 놀이기구를 타는 순서로 대기시간을 정렬한 함수\n",
    "    neverland()를 만들어 봅시다."
   ]
  },
  {
   "cell_type": "markdown",
   "metadata": {},
   "source": [
    "### 이렇게 해봐요!!\n",
    "    대기시간을 다음의 조건에 맞게 정렬하는 함수 neverland()를 작성한다\n",
    "    \n",
    "    1. 대기시간이 가장 짧은 놀이기구부터 오름차순으로 놀이기구를 탄다\n",
    "    2. 단, 인덱스 2에 해당하는 놀이기구는 유진이가 꼭 타고 싶어하는 놀이기구이기에\n",
    "       대기시간에 상관없이 가장 먼저 탄다\n",
    "    3. 인자 : 리스트 queue\n",
    "    4. 반환값 : 주어진 조건에 맞게 정렬된 리스트"
   ]
  },
  {
   "cell_type": "code",
   "execution_count": 1,
   "metadata": {},
   "outputs": [],
   "source": [
    "def neverland(queue):\n",
    "    var1 = queue[2]\n",
    "    queue.sort()\n",
    "    \n",
    "    # 1. 20 제거\n",
    "    queue.remove(var1)\n",
    "    \n",
    "    # 2. var1 맨 앞에 추가\n",
    "    queue.insert(0,var1)\n",
    "    \n",
    "    return queue"
   ]
  },
  {
   "cell_type": "code",
   "execution_count": 2,
   "metadata": {},
   "outputs": [
    {
     "name": "stdout",
     "output_type": "stream",
     "text": [
      "[20, 10, 30, 40, 50, 60]\n"
     ]
    }
   ],
   "source": [
    "queue=[30,10,20,50,40,60]\n",
    "print(neverland(queue))"
   ]
  },
  {
   "cell_type": "code",
   "execution_count": null,
   "metadata": {},
   "outputs": [],
   "source": []
  }
 ],
 "metadata": {
  "kernelspec": {
   "display_name": "Python 3",
   "language": "python",
   "name": "python3"
  },
  "language_info": {
   "codemirror_mode": {
    "name": "ipython",
    "version": 3
   },
   "file_extension": ".py",
   "mimetype": "text/x-python",
   "name": "python",
   "nbconvert_exporter": "python",
   "pygments_lexer": "ipython3",
   "version": "3.8.5"
  }
 },
 "nbformat": 4,
 "nbformat_minor": 4
}
