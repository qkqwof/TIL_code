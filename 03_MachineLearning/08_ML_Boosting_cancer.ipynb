{
 "cells": [
  {
   "cell_type": "markdown",
   "metadata": {},
   "source": [
    "### GradientBoostingMachine"
   ]
  },
  {
   "cell_type": "markdown",
   "metadata": {},
   "source": [
    "### GBM\n",
    "    Decision Tree --> Ensemble 알고리즘\n",
    "    1) Bagging 알고리즘 --> RandomForest Machine\n",
    "    2) Boosting 알고리즘 --> GradientBoosting Machine\n",
    "\n",
    "    Boosting 알고리즘의 대표적인 구현에는 GradientBoosting이 있다.\n",
    "    모델을 학습-예측하면서 잘못예측한 데이타에 가중치 부여를 통해서 \n",
    "    오류를 개선해 나가면서 학습하는 방식이다. \n",
    "    이때 가중치를 업데이트 하는 방법으로 경사하강법(Gradient Descent)를 이용한다.\n",
    "\n",
    "    결정트리 방식보다 GradientBoosting이방식이 더 고도화 되어지고 좋아진 반면에\n",
    "    각 모델에서 사용할수 있는 hyperparameter들도 늘어난다.\n",
    "    \n",
    "    결과적으로 이 모델 학습방식은 hyperparameter에 따라서 성능에 큰 차이를 보인다."
   ]
  },
  {
   "cell_type": "code",
   "execution_count": 2,
   "metadata": {},
   "outputs": [],
   "source": [
    "from sklearn.datasets import load_breast_cancer\n",
    "from sklearn.ensemble import GradientBoostingClassifier\n",
    "from sklearn.model_selection import train_test_split\n",
    "import matplotlib.pyplot as plt\n",
    "import numpy as np"
   ]
  },
  {
   "cell_type": "code",
   "execution_count": 3,
   "metadata": {},
   "outputs": [],
   "source": [
    "cancer = load_breast_cancer()"
   ]
  },
  {
   "cell_type": "code",
   "execution_count": 13,
   "metadata": {},
   "outputs": [],
   "source": [
    "X_train,X_test,y_train,y_test = train_test_split(cancer.data,cancer.target,random_state=0)"
   ]
  },
  {
   "cell_type": "code",
   "execution_count": 39,
   "metadata": {},
   "outputs": [
    {
     "data": {
      "text/plain": [
       "GradientBoostingClassifier(learning_rate=0.01, max_depth=2, random_state=0)"
      ]
     },
     "execution_count": 39,
     "metadata": {},
     "output_type": "execute_result"
    }
   ],
   "source": [
    "#1. 훈련세트 정확도 1이 나옴...일반화, 가지치기\n",
    "#2. Boosting 기법 중에서 가장 중요한 하이퍼파라미터...learning_rate 값 부여\n",
    "#gbm = GradientBoostingClassifier(random_state=0) # 1.0/0.965\n",
    "#gbm = GradientBoostingClassifier(random_state=0, max_depth=1) #0.991/0.972\n",
    "gbm = GradientBoostingClassifier(random_state=0, learning_rate=0.01) #0.988/0.965\n",
    "gbm = GradientBoostingClassifier(random_state=0, max_depth=2, learning_rate=0.01) #0.927/0.958\n",
    "gbm.fit(X_train,y_train)"
   ]
  },
  {
   "cell_type": "code",
   "execution_count": 40,
   "metadata": {},
   "outputs": [
    {
     "name": "stdout",
     "output_type": "stream",
     "text": [
      "훈련세트 정확도 : 0.974\n",
      "테스트세트 정확도 : 0.965\n"
     ]
    }
   ],
   "source": [
    "train_score = gbm.score(X_train,y_train)\n",
    "test_score = gbm.score(X_test,y_test)\n",
    "\n",
    "print(\"훈련세트 정확도 : {:.3f}\".format(train_score))\n",
    "print(\"테스트세트 정확도 : {:.3f}\".format(test_score))"
   ]
  },
  {
   "cell_type": "markdown",
   "metadata": {},
   "source": [
    "### 특성중요도 시각화"
   ]
  },
  {
   "cell_type": "code",
   "execution_count": 41,
   "metadata": {},
   "outputs": [
    {
     "data": {
      "image/png": "[encoded data removed]",
      "text/plain": [
       "<Figure size 432x288 with 1 Axes>"
      ]
     },
     "metadata": {
      "needs_background": "light"
     },
     "output_type": "display_data"
    }
   ],
   "source": [
    "# 특성 중요도 시각화하기\n",
    "def plot_feature_importances_cancer(gbm):\n",
    "    n_features = cancer.data.shape[1]\n",
    "    plt.barh(range(n_features), gbm.feature_importances_, align='center')\n",
    "    plt.yticks(np.arange(n_features), cancer.feature_names)\n",
    "    plt.xlabel(\"Feature Importance\")\n",
    "    plt.ylabel(\"Feature\")\n",
    "    plt.ylim(-1, n_features)\n",
    "\n",
    "\n",
    "\n",
    "plot_feature_importances_cancer(gbm)"
   ]
  },
  {
   "cell_type": "markdown",
   "metadata": {},
   "source": [
    "### Grid Search\n",
    "    Grid Search 알고리즘은 우리가 지정해준 몇 가지 잠재적인 Parameter 후보군 조합 중에서 가장 Best 조합을 찾아내는 교차검증 알고리즘이다. \n",
    "    \n",
    "    우리가 직접 하나하나 값들을 대입해 가면서 Loss가 가장 낮게 나오는 파라미터의 조합을 찾아야 하는데 이걸로 대신해준다고 생각하면 된다.\n",
    "    SKlearn 패키지에서 제공하는 라이브러리를 임포트만 하면 되기 때문에 상대적으로 손쉬운 방법이다.\n",
    "    \n",
    "    단점은 최적의 조합을 찾기까지 시간이 오래 걸린다는 점이 있다."
   ]
  },
  {
   "cell_type": "code",
   "execution_count": 25,
   "metadata": {},
   "outputs": [],
   "source": [
    "from sklearn.model_selection import GridSearchCV"
   ]
  },
  {
   "cell_type": "code",
   "execution_count": 26,
   "metadata": {},
   "outputs": [],
   "source": [
    "# 1. 하이퍼파라미터의 조합을 일단 딕셔너리 형태로 생성\n",
    "param_grid = {\n",
    "    \"n_estimators\" : [100,150,200,250],\n",
    "    \"max_depth\" : [4,6,9],\n",
    "    \"learning_rate\" : [0.1,0.01,0.001]\n",
    "}"
   ]
  },
  {
   "cell_type": "code",
   "execution_count": 27,
   "metadata": {},
   "outputs": [],
   "source": [
    "# 2. 우리가 적용할 모델을 생성\n",
    "gmodel = GradientBoostingClassifier()"
   ]
  },
  {
   "cell_type": "code",
   "execution_count": 28,
   "metadata": {},
   "outputs": [
    {
     "data": {
      "text/plain": [
       "GridSearchCV(estimator=GradientBoostingClassifier(), n_jobs=-1,\n",
       "             param_grid={'learning_rate': [0.1, 0.01, 0.001],\n",
       "                         'max_depth': [4, 6, 9],\n",
       "                         'n_estimators': [100, 150, 200, 250]})"
      ]
     },
     "execution_count": 28,
     "metadata": {},
     "output_type": "execute_result"
    }
   ],
   "source": [
    "# 3. GridSearch를 실행 \n",
    "#1) 모델과 파라미터를 가진 GridSearchCV 생성\n",
    "#2) GridSearchCV 학습\n",
    "grid_search = GridSearchCV(\n",
    "                            gmodel,\n",
    "                            param_grid = param_grid,\n",
    "                            n_jobs = -1,\n",
    "                            verbose=2\n",
    "                        )\n",
    "grid_search.fit(X_train,y_train)"
   ]
  },
  {
   "cell_type": "code",
   "execution_count": 29,
   "metadata": {},
   "outputs": [
    {
     "data": {
      "text/plain": [
       "{'learning_rate': 0.1, 'max_depth': 4, 'n_estimators': 250}"
      ]
     },
     "execution_count": 29,
     "metadata": {},
     "output_type": "execute_result"
    }
   ],
   "source": [
    "grid_search.best_params_"
   ]
  },
  {
   "cell_type": "markdown",
   "metadata": {},
   "source": [
    "### Best Parameter를 이용해서 GBM 생성"
   ]
  },
  {
   "cell_type": "code",
   "execution_count": 34,
   "metadata": {},
   "outputs": [
    {
     "data": {
      "text/plain": [
       "GradientBoostingClassifier(max_depth=4, n_estimators=250, random_state=0)"
      ]
     },
     "execution_count": 34,
     "metadata": {},
     "output_type": "execute_result"
    }
   ],
   "source": [
    "gbm = GradientBoostingClassifier(random_state=0, learning_rate=0.1,max_depth=4,n_estimators=250)\n",
    "\n",
    "gbm.fit(X_train,y_train)"
   ]
  },
  {
   "cell_type": "code",
   "execution_count": 35,
   "metadata": {},
   "outputs": [
    {
     "name": "stdout",
     "output_type": "stream",
     "text": [
      "훈련세트 정확도 : 1.000\n",
      "테스트세트 정확도 : 0.965\n"
     ]
    }
   ],
   "source": [
    "train_score = gbm.score(X_train,y_train)\n",
    "test_score = gbm.score(X_test,y_test)\n",
    "\n",
    "print(\"훈련세트 정확도 : {:.3f}\".format(train_score))\n",
    "print(\"테스트세트 정확도 : {:.3f}\".format(test_score))"
   ]
  },
  {
   "cell_type": "markdown",
   "metadata": {},
   "source": [
    "#### AutoML \n",
    "#### 인공지능이 알고리즘을 정해놓고 Best 하이퍼 파라미터를 직접 찾아준다\n",
    "1) 사람이 찾는 것보다 성능이 떨어짐...<br>\n",
    "2) 현재는 성능이 좋아졌다는 얘기가 있다."
   ]
  },
  {
   "cell_type": "code",
   "execution_count": null,
   "metadata": {},
   "outputs": [],
   "source": []
  }
 ],
 "metadata": {
  "kernelspec": {
   "display_name": "Python 3",
   "language": "python",
   "name": "python3"
  },
  "language_info": {
   "codemirror_mode": {
    "name": "ipython",
    "version": 3
   },
   "file_extension": ".py",
   "mimetype": "text/x-python",
   "name": "python",
   "nbconvert_exporter": "python",
   "pygments_lexer": "ipython3",
   "version": "3.8.5"
  }
 },
 "nbformat": 4,
 "nbformat_minor": 4
}
