{
 "cells": [
  {
   "cell_type": "code",
   "execution_count": 28,
   "metadata": {
    "id": "DmQYUuiTprcB"
   },
   "outputs": [],
   "source": [
    "import torch\n",
    "import torch.nn as nn\n",
    "import torchvision\n",
    "import torchvision.transforms as transforms\n",
    "\n",
    "# 디버깅용 모듈\n",
    "import pdb"
   ]
  },
  {
   "cell_type": "code",
   "execution_count": 29,
   "metadata": {
    "colab": {
     "base_uri": "https://localhost:8080/"
    },
    "id": "tg8ELH6jqJce",
    "outputId": "f5ef6f53-7ea0-4419-8b96-8e6de5e39f8a"
   },
   "outputs": [
    {
     "data": {
      "text/plain": [
       "device(type='cuda', index=0)"
      ]
     },
     "execution_count": 29,
     "metadata": {
      "tags": []
     },
     "output_type": "execute_result"
    }
   ],
   "source": [
    "device = torch.device('cuda:0' if torch.cuda.is_available() else 'cpu')\n",
    "device"
   ]
  },
  {
   "cell_type": "code",
   "execution_count": 30,
   "metadata": {
    "colab": {
     "base_uri": "https://localhost:8080/"
    },
    "id": "MKaadGk9qV_f",
    "outputId": "e9a61ef2-8f7f-412c-96ba-ed31b0920593"
   },
   "outputs": [
    {
     "name": "stdout",
     "output_type": "stream",
     "text": [
      "Files already downloaded and verified\n"
     ]
    }
   ],
   "source": [
    "num_epochs = 10\n",
    "num_classes = 10\n",
    "batch_size = 100\n",
    "learning_rate = 0.001\n",
    "\n",
    "# 1단계 - 물리적인 위치에 데이타 저장..다운로드(training/  test)\n",
    "train_dataset = torchvision.datasets.CIFAR10(root='../../data', \n",
    "                                           train=True, \n",
    "                                           transform=transforms.ToTensor(), \n",
    "                                           download=True)\n",
    "\n",
    "# training도 ToTensor()를 통해서 스케일링 했다면 test 데이타셋도 당연히 동일한 작업을 해줘야 된다.\n",
    "test_dataset = torchvision.datasets.CIFAR10(root='../../data', \n",
    "                                          train=False, \n",
    "                                          transform=transforms.ToTensor())\n",
    "\n",
    "# 2단계  -  네트워크에 100개씩 잘라서 로드함\n",
    "train_loader = torch.utils.data.DataLoader(dataset=train_dataset, \n",
    "                                           batch_size=batch_size, \n",
    "                                           shuffle=True)\n",
    "\n",
    "test_loader = torch.utils.data.DataLoader(dataset=test_dataset, \n",
    "                                          batch_size=batch_size, \n",
    "                                          shuffle=False)"
   ]
  },
  {
   "cell_type": "markdown",
   "metadata": {
    "id": "ulwDa5tLsaOa"
   },
   "source": [
    "# Convolution NeuralNet Model 생성"
   ]
  },
  {
   "cell_type": "code",
   "execution_count": 31,
   "metadata": {
    "id": "cKzlF2DXqWc5"
   },
   "outputs": [],
   "source": [
    "class ConvNet(nn.Module):\n",
    "  def __init__(self, num_classes=10):\n",
    "    super(ConvNet, self).__init__()\n",
    "    self.layer1 =nn.Sequential(\n",
    "        nn.Conv2d(3, 32, kernel_size=3, stride=1, padding=1), \n",
    "        nn.BatchNorm2d(num_features=32), \n",
    "        nn.ReLU())\n",
    "    \n",
    "    self.layer2 = nn.MaxPool2d(kernel_size=2, stride=2)\n",
    "\n",
    "    self.layer3 = nn.Sequential(\n",
    "        nn.Conv2d(32, 64, kernel_size=3, stride=1, padding=1),\n",
    "        nn.BatchNorm2d(64), \n",
    "        nn.ReLU())\n",
    "    \n",
    "    self.layer4 = nn.MaxPool2d(kernel_size=2, stride=2)\n",
    "\n",
    "    self.layer5 = nn.Sequential(\n",
    "        nn.Conv2d(64, 128, kernel_size=3, stride=1, padding=1),\n",
    "        nn.BatchNorm2d(128), \n",
    "        nn.ReLU())\n",
    "    \n",
    "    self.layer6 = nn.MaxPool2d(kernel_size=2, stride=2)\n",
    "    \n",
    "    self.layer7 = nn.Linear(4*4*128, num_classes)\n",
    "\n",
    "  def forward(self, x):\n",
    "\n",
    "    #  pdb.set_trace()\n",
    "\n",
    "     out = self.layer1(x)\n",
    "     out = self.layer2(out)\n",
    "     out = self.layer3(out)\n",
    "     out = self.layer4(out)\n",
    "     out = self.layer5(out)\n",
    "     out = self.layer6(out)\n",
    "     out = out.reshape(out.size(0),-1)\n",
    "     out = self.layer7(out)\n",
    "\n",
    "     return out\n",
    "\n"
   ]
  },
  {
   "cell_type": "code",
   "execution_count": 32,
   "metadata": {
    "id": "dyA2q52zw2Jh"
   },
   "outputs": [],
   "source": [
    "model = ConvNet(num_classes).to(device)\n"
   ]
  },
  {
   "cell_type": "code",
   "execution_count": 33,
   "metadata": {
    "id": "nvVk-SbLw-8M"
   },
   "outputs": [],
   "source": [
    "loss_function = nn.CrossEntropyLoss()\n",
    "optimizer = torch.optim.Adam(model.parameters(), lr = learning_rate)"
   ]
  },
  {
   "cell_type": "code",
   "execution_count": 33,
   "metadata": {
    "id": "hsVmmHh9j_e5"
   },
   "outputs": [],
   "source": []
  },
  {
   "cell_type": "code",
   "execution_count": null,
   "metadata": {
    "colab": {
     "base_uri": "https://localhost:8080/"
    },
    "id": "K6Bgmt6fxOh4",
    "outputId": "3a024c7d-b4d5-451d-e6d5-b5bf3115a36b"
   },
   "outputs": [
    {
     "name": "stdout",
     "output_type": "stream",
     "text": [
      "Epoch [1/10], Step [100/500], Loss: 1.2576\n",
      "Epoch [1/10], Step [200/500], Loss: 1.0717\n",
      "Epoch [1/10], Step [300/500], Loss: 1.0814\n",
      "Epoch [1/10], Step [400/500], Loss: 1.1792\n",
      "Epoch [1/10], Step [500/500], Loss: 0.9960\n",
      "Epoch [2/10], Step [100/500], Loss: 0.7540\n",
      "Epoch [2/10], Step [200/500], Loss: 0.7050\n",
      "Epoch [2/10], Step [300/500], Loss: 0.8677\n",
      "Epoch [2/10], Step [400/500], Loss: 0.8108\n",
      "Epoch [2/10], Step [500/500], Loss: 0.8983\n"
     ]
    }
   ],
   "source": [
    "total_step = len(train_loader)\n",
    "for epoch in range(num_epochs):\n",
    "  for i, (images, labels) in enumerate(train_loader):\n",
    "    images = images.to(device)\n",
    "    labels = labels.to(device)\n",
    "\n",
    "    # pdb.set_trace()\n",
    "\n",
    "    outputs = model(images)\n",
    "\n",
    "    # pdb.set_trace()\n",
    "\n",
    "    loss = loss_function(outputs, labels)\n",
    "\n",
    "    optimizer.zero_grad()\n",
    "    loss.backward()\n",
    "    optimizer.step()\n",
    "\n",
    "    if (i+1) % 100 == 0:\n",
    "       print ('Epoch [{}/{}], Step [{}/{}], Loss: {:.4f}' \n",
    "                   .format(epoch+1, num_epochs, i+1, total_step, loss.item()))"
   ]
  },
  {
   "cell_type": "code",
   "execution_count": null,
   "metadata": {
    "id": "7KRc4pCrySJE"
   },
   "outputs": [],
   "source": [
    "model.eval()\n",
    "with torch.no_grad(): # 실제로 학습할 필요가 없으면 no.grad()구문을 넣어준다.\n",
    "    correct = 0\n",
    "    total = 0\n",
    "    for images, labels in test_loader: # 인덱스를 굳이 안받아도 되니깐 enumeratorr가 빠졌다.\n",
    "        images = images.to(device) #한줄로 죽 펼친 다음에 입력받아서\n",
    "        labels = labels.to(device) # 라벨도 마찬가지로\n",
    "        outputs = model(images) #모델에 넣고\n",
    "        _, predicted = torch.max(outputs.data, 1)\n",
    "        # total은 푼 문제, correct는 맞춘 문제수..이런식으로 카운팅이 들어간다\n",
    "     \n",
    "        total += labels.size(0) \n",
    "        correct += (predicted == labels).sum().item()\n",
    "        print('Test Accuracy of the model on the 10000 test images: {} %'.format(100 * correct / total))"
   ]
  },
  {
   "cell_type": "code",
   "execution_count": null,
   "metadata": {
    "id": "snMc8VT-UP2f"
   },
   "outputs": [],
   "source": [
    "images.size()\n",
    "images[0][0].size()"
   ]
  },
  {
   "cell_type": "code",
   "execution_count": null,
   "metadata": {
    "id": "5JCIZsLbUKUL"
   },
   "outputs": [],
   "source": [
    "import numpy as np\n",
    "import matplotlib.pyplot as plt"
   ]
  },
  {
   "cell_type": "code",
   "execution_count": null,
   "metadata": {
    "id": "uzVojVyyUZ5D"
   },
   "outputs": [],
   "source": [
    "idx = 12\n",
    "image = np.array(images[idx, 0].detach().cpu()) # detach() : 연산에서 분리, cpu() : gpu()에서 내림\n",
    "label = labels[idx].item()\n",
    "pred = predicted[idx].item()\n",
    "\n",
    "plt.imshow(image * 255)\n",
    "print(\"Label :\", label)\n",
    "print(\"Prediction :\", pred)"
   ]
  },
  {
   "cell_type": "code",
   "execution_count": null,
   "metadata": {
    "id": "2bgfTzDwU1ja"
   },
   "outputs": [],
   "source": [
    "for idx in range(30):\n",
    "    image = np.array(images[idx, 0].detach().cpu())\n",
    "    label = labels[idx].item()\n",
    "    pred = predicted[idx].item()\n",
    "\n",
    "    plt.figure()\n",
    "    plt.title(f\"Label : {label}, Prediction : {pred}\")\n",
    "    plt.imshow(image * 255)"
   ]
  }
 ],
 "metadata": {
  "accelerator": "GPU",
  "colab": {
   "collapsed_sections": [],
   "name": "05_Deep_CNN.ipynb의 사본",
   "provenance": []
  },
  "kernelspec": {
   "display_name": "Python 3",
   "language": "python",
   "name": "python3"
  },
  "language_info": {
   "codemirror_mode": {
    "name": "ipython",
    "version": 3
   },
   "file_extension": ".py",
   "mimetype": "text/x-python",
   "name": "python",
   "nbconvert_exporter": "python",
   "pygments_lexer": "ipython3",
   "version": "3.8.5"
  }
 },
 "nbformat": 4,
 "nbformat_minor": 1
}
