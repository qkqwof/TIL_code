{
 "cells": [
  {
   "cell_type": "code",
   "execution_count": 2112,
   "metadata": {
    "id": "niTbyDQVRedn"
   },
   "outputs": [],
   "source": [
    "import torch\n",
    "import torchvision\n",
    "import numpy as np\n",
    "import matplotlib.pyplot as plt\n",
    "import torch.nn as nn\n",
    "import torch.nn.functional as F\n",
    "from torchvision.transforms import ToTensor\n",
    "from torchvision.utils import make_grid\n",
    "from torch.utils.data import random_split\n",
    "import pandas as pd\n",
    "import seaborn as sns\n",
    "from sklearn.preprocessing import StandardScaler\n",
    "from colorama import Fore, Back, Style\n",
    "import warnings\n",
    "warnings.filterwarnings(\"ignore\")\n",
    "%matplotlib inline"
   ]
  },
  {
   "cell_type": "code",
   "execution_count": 2113,
   "metadata": {
    "colab": {
     "base_uri": "https://localhost:8080/"
    },
    "id": "jjKYSpgkULHM",
    "outputId": "9540bd09-94d1-4267-9250-2c5d4928f286"
   },
   "outputs": [
    {
     "name": "stdout",
     "output_type": "stream",
     "text": [
      "Drive already mounted at /content/drive; to attempt to forcibly remount, call drive.mount(\"/content/drive\", force_remount=True).\n"
     ]
    }
   ],
   "source": [
    "from google.colab import drive\n",
    "drive.mount('/content/drive')"
   ]
  },
  {
   "cell_type": "code",
   "execution_count": 2114,
   "metadata": {
    "id": "cKQbkkAETrJp"
   },
   "outputs": [],
   "source": [
    "train = pd.read_csv('/content/drive/MyDrive/Colab Notebooks/encore/data/train.csv')\n",
    "test = pd.read_csv('/content/drive/MyDrive/Colab Notebooks/encore/data/test.csv')\n",
    "submission = pd.read_csv(\"/content/drive/MyDrive/Colab Notebooks/encore/data/gender_submission.csv\")\n",
    "data = train.append(test)"
   ]
  },
  {
   "cell_type": "code",
   "execution_count": 2115,
   "metadata": {
    "colab": {
     "base_uri": "https://localhost:8080/",
     "height": 204
    },
    "id": "bgpL0UsgTkTL",
    "outputId": "bb4dde8e-e988-4cf3-969f-112c552da5e6"
   },
   "outputs": [
    {
     "data": {
      "text/html": [
       "<div>\n",
       "<style scoped>\n",
       "    .dataframe tbody tr th:only-of-type {\n",
       "        vertical-align: middle;\n",
       "    }\n",
       "\n",
       "    .dataframe tbody tr th {\n",
       "        vertical-align: top;\n",
       "    }\n",
       "\n",
       "    .dataframe thead th {\n",
       "        text-align: right;\n",
       "    }\n",
       "</style>\n",
       "<table border=\"1\" class=\"dataframe\">\n",
       "  <thead>\n",
       "    <tr style=\"text-align: right;\">\n",
       "      <th></th>\n",
       "      <th>PassengerId</th>\n",
       "      <th>Survived</th>\n",
       "      <th>Pclass</th>\n",
       "      <th>Name</th>\n",
       "      <th>Sex</th>\n",
       "      <th>Age</th>\n",
       "      <th>SibSp</th>\n",
       "      <th>Parch</th>\n",
       "      <th>Ticket</th>\n",
       "      <th>Fare</th>\n",
       "      <th>Cabin</th>\n",
       "      <th>Embarked</th>\n",
       "    </tr>\n",
       "  </thead>\n",
       "  <tbody>\n",
       "    <tr>\n",
       "      <th>0</th>\n",
       "      <td>1</td>\n",
       "      <td>0</td>\n",
       "      <td>3</td>\n",
       "      <td>Braund, Mr. Owen Harris</td>\n",
       "      <td>male</td>\n",
       "      <td>22.0</td>\n",
       "      <td>1</td>\n",
       "      <td>0</td>\n",
       "      <td>A/5 21171</td>\n",
       "      <td>7.2500</td>\n",
       "      <td>NaN</td>\n",
       "      <td>S</td>\n",
       "    </tr>\n",
       "    <tr>\n",
       "      <th>1</th>\n",
       "      <td>2</td>\n",
       "      <td>1</td>\n",
       "      <td>1</td>\n",
       "      <td>Cumings, Mrs. John Bradley (Florence Briggs Th...</td>\n",
       "      <td>female</td>\n",
       "      <td>38.0</td>\n",
       "      <td>1</td>\n",
       "      <td>0</td>\n",
       "      <td>PC 17599</td>\n",
       "      <td>71.2833</td>\n",
       "      <td>C85</td>\n",
       "      <td>C</td>\n",
       "    </tr>\n",
       "    <tr>\n",
       "      <th>2</th>\n",
       "      <td>3</td>\n",
       "      <td>1</td>\n",
       "      <td>3</td>\n",
       "      <td>Heikkinen, Miss. Laina</td>\n",
       "      <td>female</td>\n",
       "      <td>26.0</td>\n",
       "      <td>0</td>\n",
       "      <td>0</td>\n",
       "      <td>STON/O2. 3101282</td>\n",
       "      <td>7.9250</td>\n",
       "      <td>NaN</td>\n",
       "      <td>S</td>\n",
       "    </tr>\n",
       "    <tr>\n",
       "      <th>3</th>\n",
       "      <td>4</td>\n",
       "      <td>1</td>\n",
       "      <td>1</td>\n",
       "      <td>Futrelle, Mrs. Jacques Heath (Lily May Peel)</td>\n",
       "      <td>female</td>\n",
       "      <td>35.0</td>\n",
       "      <td>1</td>\n",
       "      <td>0</td>\n",
       "      <td>113803</td>\n",
       "      <td>53.1000</td>\n",
       "      <td>C123</td>\n",
       "      <td>S</td>\n",
       "    </tr>\n",
       "    <tr>\n",
       "      <th>4</th>\n",
       "      <td>5</td>\n",
       "      <td>0</td>\n",
       "      <td>3</td>\n",
       "      <td>Allen, Mr. William Henry</td>\n",
       "      <td>male</td>\n",
       "      <td>35.0</td>\n",
       "      <td>0</td>\n",
       "      <td>0</td>\n",
       "      <td>373450</td>\n",
       "      <td>8.0500</td>\n",
       "      <td>NaN</td>\n",
       "      <td>S</td>\n",
       "    </tr>\n",
       "  </tbody>\n",
       "</table>\n",
       "</div>"
      ],
      "text/plain": [
       "   PassengerId  Survived  Pclass  ...     Fare Cabin  Embarked\n",
       "0            1         0       3  ...   7.2500   NaN         S\n",
       "1            2         1       1  ...  71.2833   C85         C\n",
       "2            3         1       3  ...   7.9250   NaN         S\n",
       "3            4         1       1  ...  53.1000  C123         S\n",
       "4            5         0       3  ...   8.0500   NaN         S\n",
       "\n",
       "[5 rows x 12 columns]"
      ]
     },
     "execution_count": 2115,
     "metadata": {
      "tags": []
     },
     "output_type": "execute_result"
    }
   ],
   "source": [
    "train.head()"
   ]
  },
  {
   "cell_type": "code",
   "execution_count": 2116,
   "metadata": {
    "colab": {
     "base_uri": "https://localhost:8080/",
     "height": 204
    },
    "id": "TXLgSYBgTkVj",
    "outputId": "ca114535-c7fc-4533-f2ba-b9cb2bdb562e"
   },
   "outputs": [
    {
     "data": {
      "text/html": [
       "<div>\n",
       "<style scoped>\n",
       "    .dataframe tbody tr th:only-of-type {\n",
       "        vertical-align: middle;\n",
       "    }\n",
       "\n",
       "    .dataframe tbody tr th {\n",
       "        vertical-align: top;\n",
       "    }\n",
       "\n",
       "    .dataframe thead th {\n",
       "        text-align: right;\n",
       "    }\n",
       "</style>\n",
       "<table border=\"1\" class=\"dataframe\">\n",
       "  <thead>\n",
       "    <tr style=\"text-align: right;\">\n",
       "      <th></th>\n",
       "      <th>PassengerId</th>\n",
       "      <th>Pclass</th>\n",
       "      <th>Name</th>\n",
       "      <th>Sex</th>\n",
       "      <th>Age</th>\n",
       "      <th>SibSp</th>\n",
       "      <th>Parch</th>\n",
       "      <th>Ticket</th>\n",
       "      <th>Fare</th>\n",
       "      <th>Cabin</th>\n",
       "      <th>Embarked</th>\n",
       "    </tr>\n",
       "  </thead>\n",
       "  <tbody>\n",
       "    <tr>\n",
       "      <th>0</th>\n",
       "      <td>892</td>\n",
       "      <td>3</td>\n",
       "      <td>Kelly, Mr. James</td>\n",
       "      <td>male</td>\n",
       "      <td>34.5</td>\n",
       "      <td>0</td>\n",
       "      <td>0</td>\n",
       "      <td>330911</td>\n",
       "      <td>7.8292</td>\n",
       "      <td>NaN</td>\n",
       "      <td>Q</td>\n",
       "    </tr>\n",
       "    <tr>\n",
       "      <th>1</th>\n",
       "      <td>893</td>\n",
       "      <td>3</td>\n",
       "      <td>Wilkes, Mrs. James (Ellen Needs)</td>\n",
       "      <td>female</td>\n",
       "      <td>47.0</td>\n",
       "      <td>1</td>\n",
       "      <td>0</td>\n",
       "      <td>363272</td>\n",
       "      <td>7.0000</td>\n",
       "      <td>NaN</td>\n",
       "      <td>S</td>\n",
       "    </tr>\n",
       "    <tr>\n",
       "      <th>2</th>\n",
       "      <td>894</td>\n",
       "      <td>2</td>\n",
       "      <td>Myles, Mr. Thomas Francis</td>\n",
       "      <td>male</td>\n",
       "      <td>62.0</td>\n",
       "      <td>0</td>\n",
       "      <td>0</td>\n",
       "      <td>240276</td>\n",
       "      <td>9.6875</td>\n",
       "      <td>NaN</td>\n",
       "      <td>Q</td>\n",
       "    </tr>\n",
       "    <tr>\n",
       "      <th>3</th>\n",
       "      <td>895</td>\n",
       "      <td>3</td>\n",
       "      <td>Wirz, Mr. Albert</td>\n",
       "      <td>male</td>\n",
       "      <td>27.0</td>\n",
       "      <td>0</td>\n",
       "      <td>0</td>\n",
       "      <td>315154</td>\n",
       "      <td>8.6625</td>\n",
       "      <td>NaN</td>\n",
       "      <td>S</td>\n",
       "    </tr>\n",
       "    <tr>\n",
       "      <th>4</th>\n",
       "      <td>896</td>\n",
       "      <td>3</td>\n",
       "      <td>Hirvonen, Mrs. Alexander (Helga E Lindqvist)</td>\n",
       "      <td>female</td>\n",
       "      <td>22.0</td>\n",
       "      <td>1</td>\n",
       "      <td>1</td>\n",
       "      <td>3101298</td>\n",
       "      <td>12.2875</td>\n",
       "      <td>NaN</td>\n",
       "      <td>S</td>\n",
       "    </tr>\n",
       "  </tbody>\n",
       "</table>\n",
       "</div>"
      ],
      "text/plain": [
       "   PassengerId  Pclass  ... Cabin Embarked\n",
       "0          892       3  ...   NaN        Q\n",
       "1          893       3  ...   NaN        S\n",
       "2          894       2  ...   NaN        Q\n",
       "3          895       3  ...   NaN        S\n",
       "4          896       3  ...   NaN        S\n",
       "\n",
       "[5 rows x 11 columns]"
      ]
     },
     "execution_count": 2116,
     "metadata": {
      "tags": []
     },
     "output_type": "execute_result"
    }
   ],
   "source": [
    "test.head() "
   ]
  },
  {
   "cell_type": "code",
   "execution_count": 2117,
   "metadata": {
    "colab": {
     "base_uri": "https://localhost:8080/"
    },
    "id": "7v2a4h8NTkYB",
    "outputId": "4fd47ce1-ff54-463c-a05d-a56b6561c4fd"
   },
   "outputs": [
    {
     "name": "stdout",
     "output_type": "stream",
     "text": [
      "(891, 12)\n",
      "(418, 11)\n"
     ]
    }
   ],
   "source": [
    "print(train.shape)   \n",
    "print(test.shape) "
   ]
  },
  {
   "cell_type": "code",
   "execution_count": 2118,
   "metadata": {
    "colab": {
     "base_uri": "https://localhost:8080/"
    },
    "id": "LySvyP_JTkae",
    "outputId": "36674956-24c1-46b9-ed8d-e52aef5191d7"
   },
   "outputs": [
    {
     "name": "stdout",
     "output_type": "stream",
     "text": [
      "<class 'pandas.core.frame.DataFrame'>\n",
      "RangeIndex: 891 entries, 0 to 890\n",
      "Data columns (total 12 columns):\n",
      " #   Column       Non-Null Count  Dtype  \n",
      "---  ------       --------------  -----  \n",
      " 0   PassengerId  891 non-null    int64  \n",
      " 1   Survived     891 non-null    int64  \n",
      " 2   Pclass       891 non-null    int64  \n",
      " 3   Name         891 non-null    object \n",
      " 4   Sex          891 non-null    object \n",
      " 5   Age          714 non-null    float64\n",
      " 6   SibSp        891 non-null    int64  \n",
      " 7   Parch        891 non-null    int64  \n",
      " 8   Ticket       891 non-null    object \n",
      " 9   Fare         891 non-null    float64\n",
      " 10  Cabin        204 non-null    object \n",
      " 11  Embarked     889 non-null    object \n",
      "dtypes: float64(2), int64(5), object(5)\n",
      "memory usage: 83.7+ KB\n"
     ]
    }
   ],
   "source": [
    "train.info()"
   ]
  },
  {
   "cell_type": "code",
   "execution_count": 2119,
   "metadata": {
    "colab": {
     "base_uri": "https://localhost:8080/"
    },
    "id": "W3j5UTYHTkci",
    "outputId": "5fe85855-6894-4f49-ccf0-56eddf0c1312"
   },
   "outputs": [
    {
     "data": {
      "text/plain": [
       "PassengerId      0\n",
       "Survived         0\n",
       "Pclass           0\n",
       "Name             0\n",
       "Sex              0\n",
       "Age            177\n",
       "SibSp            0\n",
       "Parch            0\n",
       "Ticket           0\n",
       "Fare             0\n",
       "Cabin          687\n",
       "Embarked         2\n",
       "dtype: int64"
      ]
     },
     "execution_count": 2119,
     "metadata": {
      "tags": []
     },
     "output_type": "execute_result"
    }
   ],
   "source": [
    "train.isnull().sum()"
   ]
  },
  {
   "cell_type": "code",
   "execution_count": 2120,
   "metadata": {
    "colab": {
     "base_uri": "https://localhost:8080/"
    },
    "id": "KpmmlfmjTke7",
    "outputId": "44f396d3-559a-4832-b6dc-64a76ce2825b"
   },
   "outputs": [
    {
     "name": "stdout",
     "output_type": "stream",
     "text": [
      "<class 'pandas.core.frame.DataFrame'>\n",
      "RangeIndex: 418 entries, 0 to 417\n",
      "Data columns (total 11 columns):\n",
      " #   Column       Non-Null Count  Dtype  \n",
      "---  ------       --------------  -----  \n",
      " 0   PassengerId  418 non-null    int64  \n",
      " 1   Pclass       418 non-null    int64  \n",
      " 2   Name         418 non-null    object \n",
      " 3   Sex          418 non-null    object \n",
      " 4   Age          332 non-null    float64\n",
      " 5   SibSp        418 non-null    int64  \n",
      " 6   Parch        418 non-null    int64  \n",
      " 7   Ticket       418 non-null    object \n",
      " 8   Fare         417 non-null    float64\n",
      " 9   Cabin        91 non-null     object \n",
      " 10  Embarked     418 non-null    object \n",
      "dtypes: float64(2), int64(4), object(5)\n",
      "memory usage: 36.0+ KB\n"
     ]
    }
   ],
   "source": [
    "test.info() "
   ]
  },
  {
   "cell_type": "code",
   "execution_count": 2121,
   "metadata": {
    "colab": {
     "base_uri": "https://localhost:8080/"
    },
    "id": "5PboOgP_U7wm",
    "outputId": "786c37ae-70c5-4a30-c256-70fa9e25cd7d"
   },
   "outputs": [
    {
     "data": {
      "text/plain": [
       "PassengerId      0\n",
       "Pclass           0\n",
       "Name             0\n",
       "Sex              0\n",
       "Age             86\n",
       "SibSp            0\n",
       "Parch            0\n",
       "Ticket           0\n",
       "Fare             1\n",
       "Cabin          327\n",
       "Embarked         0\n",
       "dtype: int64"
      ]
     },
     "execution_count": 2121,
     "metadata": {
      "tags": []
     },
     "output_type": "execute_result"
    }
   ],
   "source": [
    "test.isnull().sum()"
   ]
  },
  {
   "cell_type": "code",
   "execution_count": 2122,
   "metadata": {
    "colab": {
     "base_uri": "https://localhost:8080/",
     "height": 111
    },
    "id": "hjRTvJJ6U7yp",
    "outputId": "ea89dde8-d935-4672-f934-9e8f3e0edf67"
   },
   "outputs": [
    {
     "data": {
      "text/html": [
       "<div>\n",
       "<style scoped>\n",
       "    .dataframe tbody tr th:only-of-type {\n",
       "        vertical-align: middle;\n",
       "    }\n",
       "\n",
       "    .dataframe tbody tr th {\n",
       "        vertical-align: top;\n",
       "    }\n",
       "\n",
       "    .dataframe thead th {\n",
       "        text-align: right;\n",
       "    }\n",
       "</style>\n",
       "<table border=\"1\" class=\"dataframe\">\n",
       "  <thead>\n",
       "    <tr style=\"text-align: right;\">\n",
       "      <th></th>\n",
       "      <th>1</th>\n",
       "      <th>2</th>\n",
       "      <th>3</th>\n",
       "    </tr>\n",
       "  </thead>\n",
       "  <tbody>\n",
       "    <tr>\n",
       "      <th>Survived</th>\n",
       "      <td>136</td>\n",
       "      <td>87</td>\n",
       "      <td>119</td>\n",
       "    </tr>\n",
       "    <tr>\n",
       "      <th>Dead</th>\n",
       "      <td>80</td>\n",
       "      <td>97</td>\n",
       "      <td>372</td>\n",
       "    </tr>\n",
       "  </tbody>\n",
       "</table>\n",
       "</div>"
      ],
      "text/plain": [
       "            1   2    3\n",
       "Survived  136  87  119\n",
       "Dead       80  97  372"
      ]
     },
     "execution_count": 2122,
     "metadata": {
      "tags": []
     },
     "output_type": "execute_result"
    }
   ],
   "source": [
    "\n",
    "import matplotlib.pyplot as plt\n",
    "import seaborn as sns\n",
    "\n",
    "# 주요한 컬럼에따른 생존여부 알고 싶다,,,\n",
    "survived = train.loc[train['Survived']==1, 'Pclass'].value_counts()\n",
    "survived\n",
    "\n",
    "dead = train.loc[train['Survived']==0, 'Pclass'].value_counts()\n",
    "dead\n",
    "\n",
    "df = pd.DataFrame([survived,dead], index=['Survived', 'Dead'])\n",
    "df"
   ]
  },
  {
   "cell_type": "code",
   "execution_count": 2123,
   "metadata": {
    "colab": {
     "base_uri": "https://localhost:8080/"
    },
    "id": "JKphoMzBU702",
    "outputId": "47026b9c-b40a-4c96-f549-4ab0d1e82cff"
   },
   "outputs": [
    {
     "name": "stdout",
     "output_type": "stream",
     "text": [
      "Survived: 342 (38.4%)\n",
      "Not Survived: 549 (61.6%)\n",
      "Total: 891\n"
     ]
    }
   ],
   "source": [
    "survived = train[train['Survived'] == 1]\n",
    "not_survived = train[train['Survived'] == 0]\n",
    "\n",
    "print (\"Survived: %i (%.1f%%)\"%(len(survived), float(len(survived))/len(train)*100.0))\n",
    "print (\"Not Survived: %i (%.1f%%)\"%(len(not_survived), float(len(not_survived))/len(train)*100.0))\n",
    "print (\"Total: %i\"%len(train))"
   ]
  },
  {
   "cell_type": "code",
   "execution_count": 2124,
   "metadata": {
    "id": "-twAcS8nU73C"
   },
   "outputs": [],
   "source": [
    "def bar_chart (feature):\n",
    "    survived = train.loc[train['Survived']==1, feature].value_counts()\n",
    "    dead = train.loc[train['Survived']==0, feature].value_counts()\n",
    "    df = pd.DataFrame([survived,dead], index=['Survived', 'Dead'])\n",
    "    df.plot(kind='bar', figsize=(15,10))\n",
    "    plt.show()\n"
   ]
  },
  {
   "cell_type": "code",
   "execution_count": 2125,
   "metadata": {
    "colab": {
     "base_uri": "https://localhost:8080/"
    },
    "id": "F2FskxelU75W",
    "outputId": "dd50c98c-c771-4368-9130-93c9a3251b9c"
   },
   "outputs": [
    {
     "data": {
      "text/plain": [
       "3    491\n",
       "1    216\n",
       "2    184\n",
       "Name: Pclass, dtype: int64"
      ]
     },
     "execution_count": 2125,
     "metadata": {
      "tags": []
     },
     "output_type": "execute_result"
    }
   ],
   "source": [
    "train.Pclass.value_counts()"
   ]
  },
  {
   "cell_type": "code",
   "execution_count": 2126,
   "metadata": {
    "colab": {
     "base_uri": "https://localhost:8080/",
     "height": 297
    },
    "id": "C3XNX5CuU77l",
    "outputId": "1dff8e6c-3235-4d96-846b-42f2f0332890"
   },
   "outputs": [
    {
     "data": {
      "text/plain": [
       "<matplotlib.axes._subplots.AxesSubplot at 0x7fd68bba0250>"
      ]
     },
     "execution_count": 2126,
     "metadata": {
      "tags": []
     },
     "output_type": "execute_result"
    },
    {
     "data": {
      "image/png": "[encoded data removed]",
      "text/plain": [
       "<Figure size 432x288 with 1 Axes>"
      ]
     },
     "metadata": {
      "needs_background": "light",
      "tags": []
     },
     "output_type": "display_data"
    }
   ],
   "source": [
    "sns.countplot(data=train, x=\"Pclass\", hue=\"Survived\")"
   ]
  },
  {
   "cell_type": "code",
   "execution_count": 2127,
   "metadata": {
    "colab": {
     "base_uri": "https://localhost:8080/",
     "height": 625
    },
    "id": "22JaurGHU792",
    "outputId": "6c3e5442-e680-4ea1-c00f-b2a78c80ec94"
   },
   "outputs": [
    {
     "data": {
      "image/png": "[encoded data removed]",
      "text/plain": [
       "<Figure size 1080x720 with 1 Axes>"
      ]
     },
     "metadata": {
      "needs_background": "light",
      "tags": []
     },
     "output_type": "display_data"
    }
   ],
   "source": [
    "bar_chart(\"Pclass\")"
   ]
  },
  {
   "cell_type": "code",
   "execution_count": 2128,
   "metadata": {
    "colab": {
     "base_uri": "https://localhost:8080/"
    },
    "id": "NzX5_3YsU8AO",
    "outputId": "3fab1862-8247-4920-ffc0-c8b7c2032f92"
   },
   "outputs": [
    {
     "data": {
      "text/plain": [
       "Pclass  Survived\n",
       "1       1           136\n",
       "        0            80\n",
       "2       0            97\n",
       "        1            87\n",
       "3       0           372\n",
       "        1           119\n",
       "Name: Survived, dtype: int64"
      ]
     },
     "execution_count": 2128,
     "metadata": {
      "tags": []
     },
     "output_type": "execute_result"
    }
   ],
   "source": [
    "pclass_survived = train.groupby('Pclass').Survived.value_counts()\n",
    "pclass_survived"
   ]
  },
  {
   "cell_type": "code",
   "execution_count": 2129,
   "metadata": {
    "colab": {
     "base_uri": "https://localhost:8080/"
    },
    "id": "_r202eWzVI26",
    "outputId": "60285940-94bc-4c64-f8d4-74561619d8cf"
   },
   "outputs": [
    {
     "data": {
      "text/plain": [
       "Pclass  Survived\n",
       "1       1           136\n",
       "        0            80\n",
       "2       0            97\n",
       "        1            87\n",
       "3       0           372\n",
       "        1           119\n",
       "Name: Survived, dtype: int64"
      ]
     },
     "execution_count": 2129,
     "metadata": {
      "tags": []
     },
     "output_type": "execute_result"
    }
   ],
   "source": [
    "pclass_survived = train.groupby('Pclass').Survived.value_counts()\n",
    "pclass_survived"
   ]
  },
  {
   "cell_type": "code",
   "execution_count": 2130,
   "metadata": {
    "colab": {
     "base_uri": "https://localhost:8080/",
     "height": 173
    },
    "id": "cMzBzu3jVKDn",
    "outputId": "3859d51a-2eae-4dc9-b40b-897f4d380c58"
   },
   "outputs": [
    {
     "data": {
      "text/html": [
       "<div>\n",
       "<style scoped>\n",
       "    .dataframe tbody tr th:only-of-type {\n",
       "        vertical-align: middle;\n",
       "    }\n",
       "\n",
       "    .dataframe tbody tr th {\n",
       "        vertical-align: top;\n",
       "    }\n",
       "\n",
       "    .dataframe thead th {\n",
       "        text-align: right;\n",
       "    }\n",
       "</style>\n",
       "<table border=\"1\" class=\"dataframe\">\n",
       "  <thead>\n",
       "    <tr style=\"text-align: right;\">\n",
       "      <th></th>\n",
       "      <th>Survived</th>\n",
       "    </tr>\n",
       "    <tr>\n",
       "      <th>Pclass</th>\n",
       "      <th></th>\n",
       "    </tr>\n",
       "  </thead>\n",
       "  <tbody>\n",
       "    <tr>\n",
       "      <th>1</th>\n",
       "      <td>0.629630</td>\n",
       "    </tr>\n",
       "    <tr>\n",
       "      <th>2</th>\n",
       "      <td>0.472826</td>\n",
       "    </tr>\n",
       "    <tr>\n",
       "      <th>3</th>\n",
       "      <td>0.242363</td>\n",
       "    </tr>\n",
       "  </tbody>\n",
       "</table>\n",
       "</div>"
      ],
      "text/plain": [
       "        Survived\n",
       "Pclass          \n",
       "1       0.629630\n",
       "2       0.472826\n",
       "3       0.242363"
      ]
     },
     "execution_count": 2130,
     "metadata": {
      "tags": []
     },
     "output_type": "execute_result"
    }
   ],
   "source": [
    "pd.pivot_table(train, index=\"Pclass\", values=\"Survived\")"
   ]
  },
  {
   "cell_type": "code",
   "execution_count": 2131,
   "metadata": {
    "colab": {
     "base_uri": "https://localhost:8080/",
     "height": 225
    },
    "id": "humnaXk1VKFx",
    "outputId": "8bdaebd2-f362-4cc9-ae6e-59c69a2f9809"
   },
   "outputs": [
    {
     "data": {
      "image/png": "[encoded data removed]",
      "text/plain": [
       "<Figure size 915.875x216 with 1 Axes>"
      ]
     },
     "metadata": {
      "needs_background": "light",
      "tags": []
     },
     "output_type": "display_data"
    }
   ],
   "source": [
    "facet = sns.FacetGrid(train, hue=\"Survived\",aspect=4)\n",
    "facet.map(sns.kdeplot,'Fare',shade= True)\n",
    "facet.set(xlim=(0, train['Fare'].max()))\n",
    "facet.add_legend()\n",
    "plt.xlim(0,180)\n",
    "plt.show()"
   ]
  },
  {
   "cell_type": "code",
   "execution_count": 2132,
   "metadata": {
    "colab": {
     "base_uri": "https://localhost:8080/",
     "height": 625
    },
    "id": "hKXF1fttVKH0",
    "outputId": "bd395180-a682-4e89-b0de-673ffec21254"
   },
   "outputs": [
    {
     "data": {
      "image/png": "[encoded data removed]",
      "text/plain": [
       "<Figure size 1080x720 with 1 Axes>"
      ]
     },
     "metadata": {
      "needs_background": "light",
      "tags": []
     },
     "output_type": "display_data"
    }
   ],
   "source": [
    "bar_chart('Sex')"
   ]
  },
  {
   "cell_type": "code",
   "execution_count": 2133,
   "metadata": {
    "colab": {
     "base_uri": "https://localhost:8080/",
     "height": 142
    },
    "id": "2blh3zO3VKJ5",
    "outputId": "31f0d231-a93f-45dc-fa6c-be35fee6097b"
   },
   "outputs": [
    {
     "data": {
      "text/html": [
       "<div>\n",
       "<style scoped>\n",
       "    .dataframe tbody tr th:only-of-type {\n",
       "        vertical-align: middle;\n",
       "    }\n",
       "\n",
       "    .dataframe tbody tr th {\n",
       "        vertical-align: top;\n",
       "    }\n",
       "\n",
       "    .dataframe thead th {\n",
       "        text-align: right;\n",
       "    }\n",
       "</style>\n",
       "<table border=\"1\" class=\"dataframe\">\n",
       "  <thead>\n",
       "    <tr style=\"text-align: right;\">\n",
       "      <th></th>\n",
       "      <th>Survived</th>\n",
       "    </tr>\n",
       "    <tr>\n",
       "      <th>Sex</th>\n",
       "      <th></th>\n",
       "    </tr>\n",
       "  </thead>\n",
       "  <tbody>\n",
       "    <tr>\n",
       "      <th>female</th>\n",
       "      <td>0.742038</td>\n",
       "    </tr>\n",
       "    <tr>\n",
       "      <th>male</th>\n",
       "      <td>0.188908</td>\n",
       "    </tr>\n",
       "  </tbody>\n",
       "</table>\n",
       "</div>"
      ],
      "text/plain": [
       "        Survived\n",
       "Sex             \n",
       "female  0.742038\n",
       "male    0.188908"
      ]
     },
     "execution_count": 2133,
     "metadata": {
      "tags": []
     },
     "output_type": "execute_result"
    }
   ],
   "source": [
    "pd.pivot_table(train, index=\"Sex\", values=\"Survived\")"
   ]
  },
  {
   "cell_type": "code",
   "execution_count": 2134,
   "metadata": {
    "colab": {
     "base_uri": "https://localhost:8080/",
     "height": 384
    },
    "id": "ShOmD8qqVKL9",
    "outputId": "56820a0d-9b7d-4909-9953-7fd2e152a074"
   },
   "outputs": [
    {
     "name": "stdout",
     "output_type": "stream",
     "text": [
      "Sex     female  male\n",
      "Pclass              \n",
      "1           94   122\n",
      "2           76   108\n",
      "3          144   347\n"
     ]
    },
    {
     "data": {
      "text/plain": [
       "Text(0, 0.5, 'Percentage')"
      ]
     },
     "execution_count": 2134,
     "metadata": {
      "tags": []
     },
     "output_type": "execute_result"
    },
    {
     "data": {
      "image/png": "[encoded data removed]",
      "text/plain": [
       "<Figure size 432x288 with 1 Axes>"
      ]
     },
     "metadata": {
      "needs_background": "light",
      "tags": []
     },
     "output_type": "display_data"
    }
   ],
   "source": [
    "tab = pd.crosstab(train['Pclass'], train['Sex'])\n",
    "print (tab)\n",
    "\n",
    "# sum(1) means the sum across axis 1.\n",
    "tab.div(tab.sum(1).astype(float), axis=0).plot(kind=\"bar\", stacked=False)\n",
    "plt.xlabel('Pclass')\n",
    "plt.ylabel('Percentage')"
   ]
  },
  {
   "cell_type": "code",
   "execution_count": 2135,
   "metadata": {
    "colab": {
     "base_uri": "https://localhost:8080/",
     "height": 401
    },
    "id": "EbbqzmyQVKOH",
    "outputId": "0e6979b0-fc6e-4930-85ac-aff6a32b4968"
   },
   "outputs": [
    {
     "data": {
      "text/plain": [
       "<seaborn.axisgrid.FacetGrid at 0x7fd68d04ab50>"
      ]
     },
     "execution_count": 2135,
     "metadata": {
      "tags": []
     },
     "output_type": "execute_result"
    },
    {
     "data": {
      "image/png": "[encoded data removed]",
      "text/plain": [
       "<Figure size 762.375x360 with 1 Axes>"
      ]
     },
     "metadata": {
      "needs_background": "light",
      "tags": []
     },
     "output_type": "display_data"
    }
   ],
   "source": [
    "sns.factorplot('Sex', 'Survived', hue='Pclass', size=5, aspect=2, data=train)"
   ]
  },
  {
   "cell_type": "code",
   "execution_count": 2136,
   "metadata": {
    "colab": {
     "base_uri": "https://localhost:8080/",
     "height": 225
    },
    "id": "pFZjcFB-VKQT",
    "outputId": "71d99423-6df1-49ae-bacc-c83e4e1b5690"
   },
   "outputs": [
    {
     "data": {
      "image/png": "[encoded data removed]",
      "text/plain": [
       "<Figure size 915.875x216 with 1 Axes>"
      ]
     },
     "metadata": {
      "needs_background": "light",
      "tags": []
     },
     "output_type": "display_data"
    }
   ],
   "source": [
    "facet = sns.FacetGrid(train, hue=\"Survived\",aspect=4)\n",
    "facet.map(sns.kdeplot,'Age',shade= True)\n",
    "facet.set(xlim=(0, train['Age'].max()))\n",
    "facet.add_legend()\n",
    " \n",
    "plt.show()"
   ]
  },
  {
   "cell_type": "code",
   "execution_count": 2137,
   "metadata": {
    "id": "u5wR3O7KVKSa"
   },
   "outputs": [],
   "source": [
    "train_test_data= [train, test] \n",
    "for dataset in train_test_data:\n",
    "    dataset['Title'] = dataset['Name'].str.extract(' ([A-Za-z]+)\\.', expand=False)\n",
    "\n",
    "title_mapping = {\"Mr\": \"Mr\", \"Miss\": \"Miss\", \"Mrs\": \"Mrs\", \n",
    "                 \"Master\": \"etc\", \"Dr\": \"etc\", \"Rev\": \"etc\", \"Col\": \"etc\", \"Major\": \"etc\", \"Mlle\": \"etc\",\"Countess\": \"etc\",\n",
    "                 \"Ms\": \"etc\", \"Lady\": \"etc\", \"Jonkheer\": \"etc\", \"Don\": \"etc\", \"Dona\" : \"etc\", \"Mme\": \"etc\",\"Capt\": \"etc\",\"Sir\": \"etc\" }\n",
    "for dataset in train_test_data:\n",
    "    dataset['Title'] = dataset['Title'].map(title_mapping)\n",
    "    \n",
    "train.drop('Name', axis=1, inplace=True)\n",
    "test.drop('Name', axis=1, inplace=True)"
   ]
  },
  {
   "cell_type": "code",
   "execution_count": 2138,
   "metadata": {
    "colab": {
     "base_uri": "https://localhost:8080/",
     "height": 625
    },
    "id": "4EmYOVYAVKVF",
    "outputId": "6f187bfb-890c-4632-e9ee-112d3a6635b5"
   },
   "outputs": [
    {
     "data": {
      "image/png": "[encoded data removed]",
      "text/plain": [
       "<Figure size 1080x720 with 1 Axes>"
      ]
     },
     "metadata": {
      "needs_background": "light",
      "tags": []
     },
     "output_type": "display_data"
    }
   ],
   "source": [
    "bar_chart('Title')"
   ]
  },
  {
   "cell_type": "code",
   "execution_count": 2139,
   "metadata": {
    "colab": {
     "base_uri": "https://localhost:8080/",
     "height": 625
    },
    "id": "12MwHff6Vgkd",
    "outputId": "86470f11-347f-4d0d-ce18-2b3759bbab28"
   },
   "outputs": [
    {
     "data": {
      "image/png": "[encoded data removed]",
      "text/plain": [
       "<Figure size 1080x720 with 1 Axes>"
      ]
     },
     "metadata": {
      "needs_background": "light",
      "tags": []
     },
     "output_type": "display_data"
    }
   ],
   "source": [
    "train[\"FamilySize\"] = train[\"SibSp\"] + train[\"Parch\"]\n",
    "test[\"FamilySize\"] = test[\"SibSp\"] + test[\"Parch\"]\n",
    "train.drop('SibSp', axis=1, inplace=True)\n",
    "test.drop('SibSp', axis=1, inplace=True)\n",
    "train.drop('Parch', axis=1, inplace=True)\n",
    "test.drop('Parch', axis=1, inplace=True)\n",
    "\n",
    "bar_chart('FamilySize')"
   ]
  },
  {
   "cell_type": "code",
   "execution_count": 2140,
   "metadata": {
    "colab": {
     "base_uri": "https://localhost:8080/",
     "height": 625
    },
    "id": "-Xy0dAXlVgms",
    "outputId": "ce3c8eaf-106d-4876-856b-9704bde40650"
   },
   "outputs": [
    {
     "data": {
      "image/png": "[encoded data removed]",
      "text/plain": [
       "<Figure size 1080x720 with 1 Axes>"
      ]
     },
     "metadata": {
      "needs_background": "light",
      "tags": []
     },
     "output_type": "display_data"
    }
   ],
   "source": [
    "bar_chart('Embarked')"
   ]
  },
  {
   "cell_type": "code",
   "execution_count": 2141,
   "metadata": {
    "id": "Z4LfW3LXVgo4"
   },
   "outputs": [],
   "source": [
    "# Feature Engineering 과정에서 추출되지 않은 것들 과감히 드랍.\n",
    "\n",
    "train.drop('Ticket', axis=1, inplace=True)\n",
    "test.drop('Ticket', axis=1, inplace=True)\n",
    "\n",
    "test_PassengerId=test[\"PassengerId\"]\n",
    "train.drop('PassengerId', axis = 1, inplace=True)\n",
    "test.drop('PassengerId', axis = 1, inplace=True)"
   ]
  },
  {
   "cell_type": "code",
   "execution_count": 2142,
   "metadata": {
    "colab": {
     "base_uri": "https://localhost:8080/"
    },
    "id": "SNRTj0pLVgrR",
    "outputId": "2908ac4b-baeb-4d3a-eb1d-894ed676c900"
   },
   "outputs": [
    {
     "data": {
      "text/plain": [
       "G6             4\n",
       "C23 C25 C27    4\n",
       "B96 B98        4\n",
       "D              3\n",
       "F2             3\n",
       "              ..\n",
       "D46            1\n",
       "D48            1\n",
       "C54            1\n",
       "C50            1\n",
       "E63            1\n",
       "Name: Cabin, Length: 147, dtype: int64"
      ]
     },
     "execution_count": 2142,
     "metadata": {
      "tags": []
     },
     "output_type": "execute_result"
    }
   ],
   "source": [
    " train.Cabin.value_counts()"
   ]
  },
  {
   "cell_type": "code",
   "execution_count": 2143,
   "metadata": {
    "id": "GIklxb9BVgtn"
   },
   "outputs": [],
   "source": [
    "for dataset in train_test_data:\n",
    "    dataset['Cabin'] = dataset['Cabin'].str[:1]"
   ]
  },
  {
   "cell_type": "code",
   "execution_count": 2144,
   "metadata": {
    "colab": {
     "base_uri": "https://localhost:8080/",
     "height": 375
    },
    "id": "k96RSXSDVgwF",
    "outputId": "cb7d8aba-7888-49f1-b1b8-4ea818a3ca81"
   },
   "outputs": [
    {
     "data": {
      "text/plain": [
       "<matplotlib.axes._subplots.AxesSubplot at 0x7fd68a509050>"
      ]
     },
     "execution_count": 2144,
     "metadata": {
      "tags": []
     },
     "output_type": "execute_result"
    },
    {
     "data": {
      "image/png": "[encoded data removed]",
      "text/plain": [
       "<Figure size 720x360 with 1 Axes>"
      ]
     },
     "metadata": {
      "needs_background": "light",
      "tags": []
     },
     "output_type": "display_data"
    }
   ],
   "source": [
    "Pclass1 = train[train['Pclass']==1]['Cabin'].value_counts() #Pclass=1에 해당하는 Cabin 값을 카운트\n",
    "Pclass2 = train[train['Pclass']==2]['Cabin'].value_counts() #반복\n",
    "Pclass3 = train[train['Pclass']==3]['Cabin'].value_counts()\n",
    "df = pd.DataFrame([Pclass1, Pclass2, Pclass3])\n",
    "df.index = ['1st class','2nd class', '3rd class']\n",
    "df.plot(kind='bar',stacked=True, figsize=(10,5))"
   ]
  },
  {
   "cell_type": "code",
   "execution_count": 2145,
   "metadata": {
    "id": "tI1yZ9MxVgyV"
   },
   "outputs": [],
   "source": [
    "cabin_mapping = {\"A\": 0, \"B\": 0.4, \"C\": 0.8, \"D\": 1.2, \"E\": 1.6, \"F\": 2, \"G\": 2.4, \"T\": 2.8}\n",
    "for dataset in train_test_data:\n",
    "    dataset['Cabin'] = dataset['Cabin'].map(cabin_mapping) #mapping cabin col"
   ]
  },
  {
   "cell_type": "code",
   "execution_count": 2146,
   "metadata": {
    "id": "wOcADmwMVwsO"
   },
   "outputs": [],
   "source": [
    "#fill Nan in cabin col with median value of the Pclass\n",
    "train[\"Cabin\"].fillna(train.groupby(\"Pclass\")[\"Cabin\"].transform(\"median\"), inplace=True)\n",
    "test[\"Cabin\"].fillna(test.groupby(\"Pclass\")[\"Cabin\"].transform(\"median\"), inplace=True)"
   ]
  },
  {
   "cell_type": "code",
   "execution_count": 2147,
   "metadata": {
    "colab": {
     "base_uri": "https://localhost:8080/",
     "height": 142
    },
    "id": "6y_S7DpRlxsm",
    "outputId": "c44f6cd1-50a1-43b8-b303-64183b785205"
   },
   "outputs": [
    {
     "data": {
      "text/html": [
       "<div>\n",
       "<style scoped>\n",
       "    .dataframe tbody tr th:only-of-type {\n",
       "        vertical-align: middle;\n",
       "    }\n",
       "\n",
       "    .dataframe tbody tr th {\n",
       "        vertical-align: top;\n",
       "    }\n",
       "\n",
       "    .dataframe thead th {\n",
       "        text-align: right;\n",
       "    }\n",
       "</style>\n",
       "<table border=\"1\" class=\"dataframe\">\n",
       "  <thead>\n",
       "    <tr style=\"text-align: right;\">\n",
       "      <th></th>\n",
       "      <th>C</th>\n",
       "      <th>B</th>\n",
       "      <th>D</th>\n",
       "      <th>E</th>\n",
       "      <th>A</th>\n",
       "      <th>T</th>\n",
       "      <th>F</th>\n",
       "      <th>G</th>\n",
       "    </tr>\n",
       "  </thead>\n",
       "  <tbody>\n",
       "    <tr>\n",
       "      <th>1st class</th>\n",
       "      <td>59.0</td>\n",
       "      <td>47.0</td>\n",
       "      <td>29.0</td>\n",
       "      <td>25.0</td>\n",
       "      <td>15.0</td>\n",
       "      <td>1.0</td>\n",
       "      <td>NaN</td>\n",
       "      <td>NaN</td>\n",
       "    </tr>\n",
       "    <tr>\n",
       "      <th>2nd class</th>\n",
       "      <td>NaN</td>\n",
       "      <td>NaN</td>\n",
       "      <td>4.0</td>\n",
       "      <td>4.0</td>\n",
       "      <td>NaN</td>\n",
       "      <td>NaN</td>\n",
       "      <td>8.0</td>\n",
       "      <td>NaN</td>\n",
       "    </tr>\n",
       "    <tr>\n",
       "      <th>3rd class</th>\n",
       "      <td>NaN</td>\n",
       "      <td>NaN</td>\n",
       "      <td>NaN</td>\n",
       "      <td>3.0</td>\n",
       "      <td>NaN</td>\n",
       "      <td>NaN</td>\n",
       "      <td>5.0</td>\n",
       "      <td>4.0</td>\n",
       "    </tr>\n",
       "  </tbody>\n",
       "</table>\n",
       "</div>"
      ],
      "text/plain": [
       "              C     B     D     E     A    T    F    G\n",
       "1st class  59.0  47.0  29.0  25.0  15.0  1.0  NaN  NaN\n",
       "2nd class   NaN   NaN   4.0   4.0   NaN  NaN  8.0  NaN\n",
       "3rd class   NaN   NaN   NaN   3.0   NaN  NaN  5.0  4.0"
      ]
     },
     "execution_count": 2147,
     "metadata": {
      "tags": []
     },
     "output_type": "execute_result"
    }
   ],
   "source": [
    "df"
   ]
  },
  {
   "cell_type": "code",
   "execution_count": 2148,
   "metadata": {
    "colab": {
     "base_uri": "https://localhost:8080/"
    },
    "id": "VHqXTdsIVwua",
    "outputId": "2ac426dd-39cb-4f38-8bb7-7fc19539ef66"
   },
   "outputs": [
    {
     "data": {
      "text/plain": [
       "2.0    492\n",
       "1.8    168\n",
       "0.8     99\n",
       "0.4     47\n",
       "1.2     33\n",
       "1.6     32\n",
       "0.0     15\n",
       "2.4      4\n",
       "2.8      1\n",
       "Name: Cabin, dtype: int64"
      ]
     },
     "execution_count": 2148,
     "metadata": {
      "tags": []
     },
     "output_type": "execute_result"
    }
   ],
   "source": [
    "train.Cabin.value_counts()"
   ]
  },
  {
   "cell_type": "code",
   "execution_count": 2149,
   "metadata": {
    "id": "3bLE1NQZVwwu"
   },
   "outputs": [],
   "source": [
    "train[\"Age\"].fillna(train.groupby(\"Title\")[\"Age\"].transform(\"median\"), inplace=True)\n",
    "test[\"Age\"].fillna(test.groupby(\"Title\")[\"Age\"].transform(\"median\"), inplace=True)"
   ]
  },
  {
   "cell_type": "code",
   "execution_count": 2150,
   "metadata": {
    "id": "HcYzNQDWVwzF"
   },
   "outputs": [],
   "source": [
    "train[\"Fare\"].fillna(train.groupby(\"Pclass\")[\"Fare\"].transform(\"median\"), inplace=True)\n",
    "test[\"Fare\"].fillna(test.groupby(\"Pclass\")[\"Fare\"].transform(\"median\"), inplace=True)"
   ]
  },
  {
   "cell_type": "code",
   "execution_count": 2151,
   "metadata": {
    "colab": {
     "base_uri": "https://localhost:8080/",
     "height": 375
    },
    "id": "ReI3BGfoVw1e",
    "outputId": "de6572cc-f1e8-4efe-8c9d-6dc0d0983c85"
   },
   "outputs": [
    {
     "data": {
      "text/plain": [
       "<matplotlib.axes._subplots.AxesSubplot at 0x7fd68a753810>"
      ]
     },
     "execution_count": 2151,
     "metadata": {
      "tags": []
     },
     "output_type": "execute_result"
    },
    {
     "data": {
      "image/png": "[encoded data removed]",
      "text/plain": [
       "<Figure size 720x360 with 1 Axes>"
      ]
     },
     "metadata": {
      "needs_background": "light",
      "tags": []
     },
     "output_type": "display_data"
    }
   ],
   "source": [
    "Pclass1 = train[train['Pclass']==1]['Embarked'].value_counts()\n",
    "Pclass2 = train[train['Pclass']==2]['Embarked'].value_counts()\n",
    "Pclass3 = train[train['Pclass']==3]['Embarked'].value_counts()\n",
    "df = pd.DataFrame([Pclass1, Pclass2, Pclass3])\n",
    "df.index = ['1st class','2nd class', '3rd class']\n",
    "df.plot(kind='bar',stacked=True, figsize=(10,5))"
   ]
  },
  {
   "cell_type": "code",
   "execution_count": 2152,
   "metadata": {
    "id": "3Xe7-hnWVw4A"
   },
   "outputs": [],
   "source": [
    "for dataset in train_test_data:\n",
    "    dataset['Embarked'] = dataset['Embarked'].fillna('S')"
   ]
  },
  {
   "cell_type": "code",
   "execution_count": 2153,
   "metadata": {
    "colab": {
     "base_uri": "https://localhost:8080/",
     "height": 225
    },
    "id": "9k6ldoabVw6M",
    "outputId": "a86a1db6-39fd-4317-e3f4-832e3eb3d1a1"
   },
   "outputs": [
    {
     "data": {
      "image/png": "[encoded data removed]",
      "text/plain": [
       "<Figure size 915.875x216 with 1 Axes>"
      ]
     },
     "metadata": {
      "needs_background": "light",
      "tags": []
     },
     "output_type": "display_data"
    }
   ],
   "source": [
    "facet = sns.FacetGrid(train, hue=\"Survived\",aspect=4)\n",
    "facet.map(sns.kdeplot,'Age',shade= True)\n",
    "facet.set(xlim=(0, train['Age'].max()))\n",
    "facet.add_legend()\n",
    " \n",
    "plt.show()"
   ]
  },
  {
   "cell_type": "code",
   "execution_count": 2154,
   "metadata": {
    "id": "Jq4ayA8BV-ej"
   },
   "outputs": [],
   "source": [
    "for dataset in train_test_data:\n",
    "    dataset.loc[ dataset['Age'] <= 10, 'Age'] = 0\n",
    "    dataset.loc[(dataset['Age'] > 10) & (dataset['Age'] <= 35), 'Age'] = 1\n",
    "    dataset.loc[(dataset['Age'] > 35) & (dataset['Age'] <= 65), 'Age'] = 2\n",
    "    dataset.loc[ dataset['Age'] > 65, 'Age'] = 3"
   ]
  },
  {
   "cell_type": "code",
   "execution_count": 2155,
   "metadata": {
    "colab": {
     "base_uri": "https://localhost:8080/",
     "height": 225
    },
    "id": "fmf0fP4lV-hF",
    "outputId": "a613cb21-35ca-409a-84ee-f2734590b15f"
   },
   "outputs": [
    {
     "data": {
      "image/png": "[encoded data removed]",
      "text/plain": [
       "<Figure size 915.875x216 with 1 Axes>"
      ]
     },
     "metadata": {
      "needs_background": "light",
      "tags": []
     },
     "output_type": "display_data"
    }
   ],
   "source": [
    "facet = sns.FacetGrid(train, hue=\"Survived\",aspect=4)\n",
    "facet.map(sns.kdeplot,'Fare',shade= True)\n",
    "facet.set(xlim=(0, train['Fare'].max()))\n",
    "facet.add_legend()\n",
    "plt.xlim(0,5)\n",
    "plt.show()"
   ]
  },
  {
   "cell_type": "code",
   "execution_count": 2156,
   "metadata": {
    "id": "vgNNGmZ0V-kG"
   },
   "outputs": [],
   "source": [
    "for dataset in train_test_data:\n",
    "    dataset.loc[ dataset['Fare'] <= 7.91, 'Fare'] = 0\n",
    "    dataset.loc[(dataset['Fare'] > 7.91) & (dataset['Fare'] <= 14.454), 'Fare'] = 1\n",
    "    dataset.loc[(dataset['Fare'] > 14.454) & (dataset['Fare'] <= 31), 'Fare']   = 2\n",
    "    dataset.loc[ dataset['Fare'] > 31, 'Fare'] = 3\n",
    "    dataset['Fare'] = dataset['Fare'].astype(int)"
   ]
  },
  {
   "cell_type": "code",
   "execution_count": 2157,
   "metadata": {
    "id": "r-11LZFHWF5w"
   },
   "outputs": [],
   "source": [
    "# 머신에게 학습을 시킬때는 문자열로는 학습이 안된다. 모든 값을 숫자로 매핑시킨다.\n",
    "sex_mapping = {\"male\": 0, \"female\": 1}\n",
    "for dataset in train_test_data:\n",
    "    dataset['Sex'] = dataset['Sex'].map(sex_mapping)"
   ]
  },
  {
   "cell_type": "code",
   "execution_count": 2158,
   "metadata": {
    "id": "DXsj6fq2WF7-"
   },
   "outputs": [],
   "source": [
    "# 선착장을 숫자로 맵핑\n",
    "embarked_mapping = {\"S\": 0, \"C\": 1, \"Q\": 2}\n",
    "for dataset in train_test_data:\n",
    "    dataset['Embarked'] = dataset['Embarked'].map(embarked_mapping)"
   ]
  },
  {
   "cell_type": "code",
   "execution_count": 2159,
   "metadata": {
    "id": "oW0_oFfAWF-f"
   },
   "outputs": [],
   "source": [
    "title_mapping = {\"Mr\": 0, \"Miss\": 1, \"Mrs\": 2, \"etc\": 3}\n",
    "for dataset in train_test_data:\n",
    "    dataset['Title'] = dataset['Title'].map(title_mapping)"
   ]
  },
  {
   "cell_type": "code",
   "execution_count": 2160,
   "metadata": {
    "colab": {
     "base_uri": "https://localhost:8080/",
     "height": 419
    },
    "id": "mlyl47jmWGAy",
    "outputId": "a85666f3-b3f5-4abf-c6b1-72d5a1c05514"
   },
   "outputs": [
    {
     "data": {
      "text/html": [
       "<div>\n",
       "<style scoped>\n",
       "    .dataframe tbody tr th:only-of-type {\n",
       "        vertical-align: middle;\n",
       "    }\n",
       "\n",
       "    .dataframe tbody tr th {\n",
       "        vertical-align: top;\n",
       "    }\n",
       "\n",
       "    .dataframe thead th {\n",
       "        text-align: right;\n",
       "    }\n",
       "</style>\n",
       "<table border=\"1\" class=\"dataframe\">\n",
       "  <thead>\n",
       "    <tr style=\"text-align: right;\">\n",
       "      <th></th>\n",
       "      <th>Pclass</th>\n",
       "      <th>Sex</th>\n",
       "      <th>Age</th>\n",
       "      <th>Fare</th>\n",
       "      <th>Cabin</th>\n",
       "      <th>Embarked</th>\n",
       "      <th>Title</th>\n",
       "      <th>FamilySize</th>\n",
       "    </tr>\n",
       "  </thead>\n",
       "  <tbody>\n",
       "    <tr>\n",
       "      <th>0</th>\n",
       "      <td>3</td>\n",
       "      <td>0</td>\n",
       "      <td>1.0</td>\n",
       "      <td>0</td>\n",
       "      <td>2.0</td>\n",
       "      <td>0</td>\n",
       "      <td>0</td>\n",
       "      <td>1</td>\n",
       "    </tr>\n",
       "    <tr>\n",
       "      <th>1</th>\n",
       "      <td>1</td>\n",
       "      <td>1</td>\n",
       "      <td>2.0</td>\n",
       "      <td>3</td>\n",
       "      <td>0.8</td>\n",
       "      <td>1</td>\n",
       "      <td>2</td>\n",
       "      <td>1</td>\n",
       "    </tr>\n",
       "    <tr>\n",
       "      <th>2</th>\n",
       "      <td>3</td>\n",
       "      <td>1</td>\n",
       "      <td>1.0</td>\n",
       "      <td>1</td>\n",
       "      <td>2.0</td>\n",
       "      <td>0</td>\n",
       "      <td>1</td>\n",
       "      <td>0</td>\n",
       "    </tr>\n",
       "    <tr>\n",
       "      <th>3</th>\n",
       "      <td>1</td>\n",
       "      <td>1</td>\n",
       "      <td>1.0</td>\n",
       "      <td>3</td>\n",
       "      <td>0.8</td>\n",
       "      <td>0</td>\n",
       "      <td>2</td>\n",
       "      <td>1</td>\n",
       "    </tr>\n",
       "    <tr>\n",
       "      <th>4</th>\n",
       "      <td>3</td>\n",
       "      <td>0</td>\n",
       "      <td>1.0</td>\n",
       "      <td>1</td>\n",
       "      <td>2.0</td>\n",
       "      <td>0</td>\n",
       "      <td>0</td>\n",
       "      <td>0</td>\n",
       "    </tr>\n",
       "    <tr>\n",
       "      <th>...</th>\n",
       "      <td>...</td>\n",
       "      <td>...</td>\n",
       "      <td>...</td>\n",
       "      <td>...</td>\n",
       "      <td>...</td>\n",
       "      <td>...</td>\n",
       "      <td>...</td>\n",
       "      <td>...</td>\n",
       "    </tr>\n",
       "    <tr>\n",
       "      <th>886</th>\n",
       "      <td>2</td>\n",
       "      <td>0</td>\n",
       "      <td>1.0</td>\n",
       "      <td>1</td>\n",
       "      <td>1.8</td>\n",
       "      <td>0</td>\n",
       "      <td>3</td>\n",
       "      <td>0</td>\n",
       "    </tr>\n",
       "    <tr>\n",
       "      <th>887</th>\n",
       "      <td>1</td>\n",
       "      <td>1</td>\n",
       "      <td>1.0</td>\n",
       "      <td>2</td>\n",
       "      <td>0.4</td>\n",
       "      <td>0</td>\n",
       "      <td>1</td>\n",
       "      <td>0</td>\n",
       "    </tr>\n",
       "    <tr>\n",
       "      <th>888</th>\n",
       "      <td>3</td>\n",
       "      <td>1</td>\n",
       "      <td>1.0</td>\n",
       "      <td>2</td>\n",
       "      <td>2.0</td>\n",
       "      <td>0</td>\n",
       "      <td>1</td>\n",
       "      <td>3</td>\n",
       "    </tr>\n",
       "    <tr>\n",
       "      <th>889</th>\n",
       "      <td>1</td>\n",
       "      <td>0</td>\n",
       "      <td>1.0</td>\n",
       "      <td>2</td>\n",
       "      <td>0.8</td>\n",
       "      <td>1</td>\n",
       "      <td>0</td>\n",
       "      <td>0</td>\n",
       "    </tr>\n",
       "    <tr>\n",
       "      <th>890</th>\n",
       "      <td>3</td>\n",
       "      <td>0</td>\n",
       "      <td>1.0</td>\n",
       "      <td>0</td>\n",
       "      <td>2.0</td>\n",
       "      <td>2</td>\n",
       "      <td>0</td>\n",
       "      <td>0</td>\n",
       "    </tr>\n",
       "  </tbody>\n",
       "</table>\n",
       "<p>891 rows × 8 columns</p>\n",
       "</div>"
      ],
      "text/plain": [
       "     Pclass  Sex  Age  Fare  Cabin  Embarked  Title  FamilySize\n",
       "0         3    0  1.0     0    2.0         0      0           1\n",
       "1         1    1  2.0     3    0.8         1      2           1\n",
       "2         3    1  1.0     1    2.0         0      1           0\n",
       "3         1    1  1.0     3    0.8         0      2           1\n",
       "4         3    0  1.0     1    2.0         0      0           0\n",
       "..      ...  ...  ...   ...    ...       ...    ...         ...\n",
       "886       2    0  1.0     1    1.8         0      3           0\n",
       "887       1    1  1.0     2    0.4         0      1           0\n",
       "888       3    1  1.0     2    2.0         0      1           3\n",
       "889       1    0  1.0     2    0.8         1      0           0\n",
       "890       3    0  1.0     0    2.0         2      0           0\n",
       "\n",
       "[891 rows x 8 columns]"
      ]
     },
     "execution_count": 2160,
     "metadata": {
      "tags": []
     },
     "output_type": "execute_result"
    }
   ],
   "source": [
    "train_data = train.drop('Survived', axis=1) # X_train\n",
    "\n",
    "train_data"
   ]
  },
  {
   "cell_type": "code",
   "execution_count": 2161,
   "metadata": {
    "colab": {
     "base_uri": "https://localhost:8080/"
    },
    "id": "QP-XaIhiWGDD",
    "outputId": "28cf98c0-5937-4c2a-ba3f-19f19e867175"
   },
   "outputs": [
    {
     "data": {
      "text/plain": [
       "0      0\n",
       "1      1\n",
       "2      1\n",
       "3      1\n",
       "4      0\n",
       "      ..\n",
       "886    0\n",
       "887    1\n",
       "888    0\n",
       "889    1\n",
       "890    0\n",
       "Name: Survived, Length: 891, dtype: int64"
      ]
     },
     "execution_count": 2161,
     "metadata": {
      "tags": []
     },
     "output_type": "execute_result"
    }
   ],
   "source": [
    "train_label = train['Survived'] # y_train\n",
    "train_label"
   ]
  },
  {
   "cell_type": "code",
   "execution_count": 2161,
   "metadata": {
    "id": "_AkrspFgWXrI"
   },
   "outputs": [],
   "source": []
  },
  {
   "cell_type": "code",
   "execution_count": 2162,
   "metadata": {
    "colab": {
     "base_uri": "https://localhost:8080/"
    },
    "id": "Lfjo2yRYgnQv",
    "outputId": "5b51f838-100d-4736-86e7-b8816288b413"
   },
   "outputs": [
    {
     "name": "stdout",
     "output_type": "stream",
     "text": [
      "[[3. 0. 1. ... 0. 0. 1.]\n",
      " [1. 1. 2. ... 1. 2. 1.]\n",
      " [3. 1. 1. ... 0. 1. 0.]\n",
      " ...\n",
      " [3. 1. 1. ... 0. 1. 3.]\n",
      " [1. 0. 1. ... 1. 0. 0.]\n",
      " [3. 0. 1. ... 2. 0. 0.]]\n",
      "[0 1 1 1 0 0 0 0 1 1 1 1 0 0 0 1 0 1 0 1 0 1 1 1 0 1 0 0 1 0 0 1 1 0 0 0 1\n",
      " 0 0 1 0 0 0 1 1 0 0 1 0 0 0 0 1 1 0 1 1 0 1 0 0 1 0 0 0 1 1 0 1 0 0 0 0 0\n",
      " 1 0 0 0 1 1 0 1 1 0 1 1 0 0 1 0 0 0 0 0 0 0 0 1 1 0 0 0 0 0 0 0 1 1 0 1 0\n",
      " 0 0 0 0 0 0 0 0 0 0 0 0 1 0 1 0 1 1 0 0 0 0 1 0 0 1 0 0 0 0 1 1 0 0 0 1 0\n",
      " 0 0 0 1 0 0 0 0 1 0 0 0 0 1 0 0 0 1 1 0 0 0 0 0 1 0 0 0 0 0 0 0 0 0 0 1 1\n",
      " 0 1 1 0 0 1 0 1 1 1 1 0 0 1 0 0 0 0 0 1 0 0 1 1 1 0 1 0 0 0 1 1 0 1 0 1 0\n",
      " 0 0 1 0 1 0 0 0 1 0 0 1 0 0 0 1 0 0 0 1 0 0 0 0 0 1 1 0 0 0 0 0 0 1 1 1 1\n",
      " 1 0 1 0 0 0 0 0 1 1 1 0 1 1 0 1 1 0 0 0 1 0 0 0 1 0 0 1 0 1 1 1 1 0 0 0 0\n",
      " 0 0 1 1 1 1 0 1 0 1 1 1 0 1 1 1 0 0 0 1 1 0 1 1 0 0 1 1 0 1 0 1 1 1 1 0 0\n",
      " 0 1 0 0 1 1 0 1 1 0 0 0 1 1 1 1 0 0 0 0 0 0 0 1 0 1 1 0 0 0 0 0 0 1 1 1 1\n",
      " 1 0 0 0 0 1 1 0 0 0 1 1 0 1 0 0 0 1 0 1 1 1 0 1 1 0 0 0 0 1 1 0 0 0 0 0 0\n",
      " 1 0 0 0 0 1 0 1 0 1 1 0 0 0 0 0 0 0 0 1 1 0 1 1 1 1 0 0 1 0 1 0 0 1 0 0 1\n",
      " 1 1 1 1 1 1 0 0 0 1 0 1 0 1 1 0 1 0 0 0 0 0 0 0 0 1 0 0 1 1 0 0 0 0 0 1 0\n",
      " 0 0 1 1 0 1 0 0 1 0 0 0 0 0 0 1 0 0 0 0 0 0 0 1 0 1 1 0 1 1 0 1 1 0 0 1 0\n",
      " 1 0 1 0 0 1 0 0 1 0 0 0 1 0 0 1 0 1 0 1 0 1 1 0 0 1 0 0 1 1 0 1 1 0 0 1 1\n",
      " 0 1 0 1 1 0 0 0 0 0 0 0 0 0 1 1 1 1 1 0 0 1 1 0 1 1 1 0 0 0 1 0 1 0 0 0 1\n",
      " 0 0 0 0 1 0 0 1 1 0 0 0 1 0 0 1 1 1 0 0 1 0 0 1 0 0 1 0 0 1 1 0 0 0 0 1 0\n",
      " 0 1 0 1 0 0 1 0 0 0 0 0 1 0 1 1 1 0 1 0 1 0 1 0 1 0 0 0 0 0 0 1 0 0 0 1 0\n",
      " 0 0 0 1 1 0 0 1 0 0 0 1 0 1 0 1 0 0 0 0 0 0 0 1 1 1 1 0 0 0 0 1 0 0 1 1 0\n",
      " 0 0 0 1 1 1 1 1 0 1 0 0 0 1 1 0 0 1 0 0 0 1 0 1 1 0 0 1 0 0 0 0 0 0 1 0 0\n",
      " 1 0 1 0 1 0 0 1 0 0 1 1 0 0 1 1 0 0 0 1 0 0 1 1 0 1 0 0 0 0 0 0 0 0 1 0 0\n",
      " 1 0 1 1 1 0 0 0 0 1 0 1 0 0 0 0 0 0 0 1 1 0 0 0 1 1 1 1 0 0 0 0 1 0 0 0 0\n",
      " 0 0 0 0 0 0 1 1 0 1 0 0 0 1 1 1 1 1 0 0 0 1 0 0 1 1 0 0 1 0 0 0 0 0 0 1 0\n",
      " 0 0 1 0 1 1 1 1 0 0 0 1 0 0 1 1 0 0 1 0 1 0 0 1 1 0 0 0 1 1 0 0 0 0 0 0 1\n",
      " 0 1 0]\n"
     ]
    }
   ],
   "source": [
    "df = train_data\n",
    "array_train_data = df.values\n",
    "print(array_train_data) \n",
    "\n",
    "df1 = train_label\n",
    "array_train_label = df1.values\n",
    "print(array_train_label) "
   ]
  },
  {
   "cell_type": "markdown",
   "metadata": {
    "id": "-tcitwjMWZQn"
   },
   "source": [
    "## ANN"
   ]
  },
  {
   "cell_type": "code",
   "execution_count": 2163,
   "metadata": {
    "colab": {
     "base_uri": "https://localhost:8080/"
    },
    "id": "VfB_Vhp2WX1A",
    "outputId": "95a5f196-e8d9-43bf-87a7-d53566ee9610"
   },
   "outputs": [
    {
     "name": "stdout",
     "output_type": "stream",
     "text": [
      "cpu\n",
      "712 179\n"
     ]
    }
   ],
   "source": [
    "import torch\n",
    "import torch.nn as nn\n",
    "import torchvision\n",
    "import torchvision.transforms as transforms\n",
    "import matplotlib.pyplot as plt\n",
    "\n",
    "# 우리가 사용할 컴퓨터를 check하는 부분, cpu/gpu 지원받을지...\n",
    "device = torch.device('cuda' if torch.cuda.is_available() else 'cpu')\n",
    "print(device)\n",
    "\n",
    "from sklearn.model_selection import train_test_split\n",
    "# Write Code !!\n",
    "\n",
    "X_train, X_test, y_train, y_test = train_test_split(array_train_data, array_train_label, test_size=0.2, random_state=42)\n",
    "\n",
    "print(len(X_train), len(X_test))\n",
    "\n",
    "X_train = torch.FloatTensor(X_train).to(device)\n",
    "X_test = torch.FloatTensor(X_test).to(device)\n",
    "y_train = torch.LongTensor(y_train).to(device)\n",
    "y_test = torch.LongTensor(y_test).to(device)"
   ]
  },
  {
   "cell_type": "code",
   "execution_count": 2164,
   "metadata": {
    "id": "ly0n2JSXWX3R"
   },
   "outputs": [],
   "source": [
    "input_size = 8\n",
    "hidden_size = 80\n",
    "num_classes = 7\n",
    "num_epochs = 100\n",
    "learning_rate = 0.01"
   ]
  },
  {
   "cell_type": "code",
   "execution_count": 2165,
   "metadata": {
    "id": "n4URTehGkFCv"
   },
   "outputs": [],
   "source": [
    "class NeuralNet(nn.Module): \n",
    "    \n",
    "    def __init__(self, input_size, hidden_size, num_classes): \n",
    "        # Write Code !!\n",
    "        super(NeuralNet, self).__init__()\n",
    "        self.fc1=nn.Linear(input_size, hidden_size)\n",
    "        self.relu=nn.ReLU()\n",
    "        self.fc2=nn.Linear(hidden_size, num_classes)        \n",
    "        \n",
    "        \n",
    "    def forward(self, x):\n",
    "       # Write Code !!\n",
    "        out=self.fc1(x)        \n",
    "        out=self.relu(out)\n",
    "        out=self.fc2(out)    \n",
    "    \n",
    "        return out "
   ]
  },
  {
   "cell_type": "code",
   "execution_count": 2166,
   "metadata": {
    "colab": {
     "base_uri": "https://localhost:8080/"
    },
    "id": "YkbNhB97kHpw",
    "outputId": "4a987eaa-023a-4b31-cac5-7c2d82c7c3bc"
   },
   "outputs": [
    {
     "name": "stdout",
     "output_type": "stream",
     "text": [
      "epoch 0, loss is 2.048618793487549\n",
      "epoch 10, loss is 0.49457600712776184\n",
      "epoch 20, loss is 0.4455571472644806\n",
      "epoch 30, loss is 0.4229793846607208\n",
      "epoch 40, loss is 0.4172459840774536\n",
      "epoch 50, loss is 0.41154688596725464\n",
      "epoch 60, loss is 0.4060218930244446\n",
      "epoch 70, loss is 0.4008147418498993\n",
      "epoch 80, loss is 0.3956679105758667\n",
      "epoch 90, loss is 0.3903227746486664\n",
      "epoch 100, loss is 0.3849540054798126\n",
      "epoch 110, loss is 0.37980741262435913\n",
      "epoch 120, loss is 0.3746740221977234\n",
      "epoch 130, loss is 0.3692234456539154\n",
      "epoch 140, loss is 0.36447790265083313\n",
      "epoch 150, loss is 0.3609485924243927\n",
      "epoch 160, loss is 0.35701999068260193\n",
      "epoch 170, loss is 0.35432106256484985\n",
      "epoch 180, loss is 0.352900892496109\n",
      "epoch 190, loss is 0.3482443690299988\n",
      "epoch 200, loss is 0.34518396854400635\n",
      "epoch 210, loss is 0.3421538770198822\n",
      "epoch 220, loss is 0.33900052309036255\n",
      "epoch 230, loss is 0.33747559785842896\n",
      "epoch 240, loss is 0.3342326283454895\n",
      "epoch 250, loss is 0.3318925201892853\n",
      "epoch 260, loss is 0.32775402069091797\n",
      "epoch 270, loss is 0.32552552223205566\n",
      "epoch 280, loss is 0.32422614097595215\n",
      "epoch 290, loss is 0.3228907585144043\n",
      "epoch 300, loss is 0.3209330141544342\n",
      "epoch 310, loss is 0.3188236653804779\n",
      "epoch 320, loss is 0.3166804015636444\n",
      "epoch 330, loss is 0.3146989047527313\n",
      "epoch 340, loss is 0.3129303455352783\n",
      "epoch 350, loss is 0.3127048909664154\n",
      "epoch 360, loss is 0.3103300929069519\n",
      "epoch 370, loss is 0.3083413243293762\n",
      "epoch 380, loss is 0.3070080280303955\n",
      "epoch 390, loss is 0.3065245449542999\n",
      "epoch 400, loss is 0.30405139923095703\n",
      "epoch 410, loss is 0.30254408717155457\n",
      "epoch 420, loss is 0.3004942834377289\n",
      "epoch 430, loss is 0.29894253611564636\n",
      "epoch 440, loss is 0.29736441373825073\n",
      "epoch 450, loss is 0.29572388529777527\n",
      "epoch 460, loss is 0.29803237318992615\n",
      "epoch 470, loss is 0.29495930671691895\n",
      "epoch 480, loss is 0.2923172414302826\n",
      "epoch 490, loss is 0.2914130985736847\n"
     ]
    }
   ],
   "source": [
    "# 위에서 정의한 클래스를 인스턴스화 시킴\n",
    "model = NeuralNet(input_size, hidden_size, num_classes).to(device) # 이 model 을 gpu서버에서 돌리겠다\n",
    "\n",
    "# loss and optimizer를 선정의\n",
    "loss_function = nn.CrossEntropyLoss() # Loss 기능안에 Softmax 함수기능 포함되어져 있다.\n",
    "optimizer = torch.optim.Adam(model.parameters(), lr=learning_rate)\n",
    "\n",
    "epochs = 500 #훈련 횟수 100번\n",
    "losses = [] # loss를 담을 리스트, 시각화 하기 위함\n",
    "\n",
    "for i in range(epochs):\n",
    "    y_pred = model.forward(X_train)\n",
    "    loss = loss_function(y_pred, y_train)\n",
    "    losses.append(loss)\n",
    "    \n",
    "    if i % 10 ==0:\n",
    "        print(f'epoch {i}, loss is {loss}')\n",
    "        \n",
    "    # 역전파 수행\n",
    "    optimizer.zero_grad()\n",
    "    loss.backward()\n",
    "    optimizer.step()"
   ]
  },
  {
   "cell_type": "code",
   "execution_count": 2167,
   "metadata": {
    "colab": {
     "base_uri": "https://localhost:8080/",
     "height": 297
    },
    "id": "m3YOkDCjkMRh",
    "outputId": "35bc192b-8a56-4668-e062-b0b844cb7f35"
   },
   "outputs": [
    {
     "data": {
      "text/plain": [
       "Text(0.5, 0, 'Epoch')"
      ]
     },
     "execution_count": 2167,
     "metadata": {
      "tags": []
     },
     "output_type": "execute_result"
    },
    {
     "data": {
      "image/png": "[encoded data removed]",
      "text/plain": [
       "<Figure size 432x288 with 1 Axes>"
      ]
     },
     "metadata": {
      "needs_background": "light",
      "tags": []
     },
     "output_type": "display_data"
    }
   ],
   "source": [
    "new_tensor = torch.tensor(losses, device = 'cpu')\n",
    "\n",
    "plt.plot(range(epochs),  new_tensor)\n",
    "plt.ylabel('loss')\n",
    "plt.xlabel('Epoch')"
   ]
  },
  {
   "cell_type": "code",
   "execution_count": 2168,
   "metadata": {
    "colab": {
     "base_uri": "https://localhost:8080/"
    },
    "id": "mj-2e0xvm0Ug",
    "outputId": "1075641b-cea4-4a83-d330-d5e3187187c2"
   },
   "outputs": [
    {
     "name": "stdout",
     "output_type": "stream",
     "text": [
      "1) 1 , 1\n",
      "2) 0 , 0\n",
      "3) 0 , 0\n",
      "4) 1 , 1\n",
      "5) 1 , 1\n",
      "6) 1 , 1\n",
      "7) 1 , 1\n",
      "8) 0 , 0\n",
      "9) 1 , 1\n",
      "10) 1 , 1\n",
      "11) 0 , 0\n",
      "12) 0 , 0\n",
      "13) 0 , 0\n",
      "14) 0 , 0\n",
      "15) 0 , 0\n",
      "16) 1 , 1\n",
      "17) 0 , 1\n",
      "18) 1 , 1\n",
      "19) 1 , 0\n",
      "20) 0 , 0\n",
      "21) 0 , 0\n",
      "22) 1 , 1\n",
      "23) 1 , 1\n",
      "24) 0 , 0\n",
      "25) 0 , 0\n",
      "26) 0 , 0\n",
      "27) 0 , 0\n",
      "28) 0 , 1\n",
      "29) 0 , 0\n",
      "30) 1 , 0\n",
      "31) 0 , 0\n",
      "32) 1 , 1\n",
      "33) 0 , 0\n",
      "34) 1 , 0\n",
      "35) 0 , 1\n",
      "36) 0 , 0\n",
      "37) 0 , 1\n",
      "38) 1 , 1\n",
      "39) 1 , 1\n",
      "40) 0 , 0\n",
      "41) 0 , 0\n",
      "42) 0 , 0\n",
      "43) 0 , 0\n",
      "44) 0 , 0\n",
      "45) 0 , 0\n",
      "46) 0 , 0\n",
      "47) 0 , 0\n",
      "48) 0 , 0\n",
      "49) 0 , 0\n",
      "50) 0 , 0\n",
      "51) 1 , 1\n",
      "52) 1 , 1\n",
      "53) 0 , 0\n",
      "54) 1 , 1\n",
      "55) 0 , 0\n",
      "56) 1 , 1\n",
      "57) 0 , 0\n",
      "58) 1 , 1\n",
      "59) 1 , 1\n",
      "60) 1 , 1\n",
      "61) 0 , 0\n",
      "62) 1 , 1\n",
      "63) 1 , 1\n",
      "64) 1 , 0\n",
      "65) 0 , 0\n",
      "66) 1 , 0\n",
      "67) 0 , 0\n",
      "68) 0 , 0\n",
      "69) 0 , 0\n",
      "70) 1 , 1\n",
      "71) 1 , 0\n",
      "72) 1 , 1\n",
      "73) 0 , 1\n",
      "74) 1 , 1\n",
      "75) 0 , 0\n",
      "76) 0 , 0\n",
      "77) 1 , 0\n",
      "78) 1 , 1\n",
      "79) 1 , 0\n",
      "80) 0 , 0\n",
      "81) 0 , 0\n",
      "82) 1 , 1\n",
      "83) 1 , 1\n",
      "84) 0 , 0\n",
      "85) 0 , 0\n",
      "86) 0 , 0\n",
      "87) 1 , 1\n",
      "88) 1 , 1\n",
      "89) 0 , 0\n",
      "90) 0 , 0\n",
      "91) 1 , 1\n",
      "92) 0 , 0\n",
      "93) 0 , 0\n",
      "94) 0 , 0\n",
      "95) 0 , 0\n",
      "96) 0 , 0\n",
      "97) 0 , 1\n",
      "98) 0 , 1\n",
      "99) 1 , 1\n",
      "100) 0 , 0\n",
      "101) 0 , 0\n",
      "102) 0 , 0\n",
      "103) 1 , 1\n",
      "104) 0 , 0\n",
      "105) 0 , 0\n",
      "106) 0 , 0\n",
      "107) 1 , 1\n",
      "108) 0 , 0\n",
      "109) 0 , 1\n",
      "110) 0 , 1\n",
      "111) 1 , 1\n",
      "112) 0 , 0\n",
      "113) 1 , 1\n",
      "114) 0 , 1\n",
      "115) 0 , 0\n",
      "116) 0 , 0\n",
      "117) 0 , 0\n",
      "118) 0 , 0\n",
      "119) 1 , 1\n",
      "120) 0 , 0\n",
      "121) 0 , 0\n",
      "122) 1 , 1\n",
      "123) 1 , 1\n",
      "124) 1 , 1\n",
      "125) 0 , 0\n",
      "126) 0 , 1\n",
      "127) 1 , 1\n",
      "128) 0 , 0\n",
      "129) 1 , 0\n",
      "130) 0 , 0\n",
      "131) 1 , 1\n",
      "132) 1 , 1\n",
      "133) 0 , 0\n",
      "134) 1 , 1\n",
      "135) 1 , 1\n",
      "136) 1 , 1\n",
      "137) 1 , 1\n",
      "138) 0 , 0\n",
      "139) 0 , 0\n",
      "140) 1 , 0\n",
      "141) 0 , 0\n",
      "142) 1 , 0\n",
      "143) 0 , 0\n",
      "144) 0 , 0\n",
      "145) 0 , 0\n",
      "146) 1 , 1\n",
      "147) 0 , 0\n",
      "148) 0 , 0\n",
      "149) 1 , 1\n",
      "150) 0 , 0\n",
      "151) 0 , 0\n",
      "152) 0 , 0\n",
      "153) 0 , 0\n",
      "154) 1 , 1\n",
      "155) 0 , 0\n",
      "156) 0 , 0\n",
      "157) 1 , 1\n",
      "158) 1 , 1\n",
      "159) 1 , 1\n",
      "160) 1 , 0\n",
      "161) 0 , 0\n",
      "162) 1 , 1\n",
      "163) 0 , 0\n",
      "164) 1 , 1\n",
      "165) 0 , 0\n",
      "166) 1 , 0\n",
      "167) 1 , 0\n",
      "168) 1 , 1\n",
      "169) 0 , 0\n",
      "170) 0 , 0\n",
      "171) 1 , 1\n",
      "172) 1 , 1\n",
      "173) 0 , 1\n",
      "174) 1 , 0\n",
      "175) 0 , 0\n",
      "176) 0 , 0\n",
      "177) 0 , 1\n",
      "178) 1 , 1\n",
      "179) 1 , 1\n",
      "179개중 정답을 맞춘 갯수는 151개 입니다!!\n",
      "Accuracy of the Network on the Test Images : 84.35754189944134 %\n"
     ]
    }
   ],
   "source": [
    "from sklearn.metrics import accuracy_score\n",
    "\n",
    "device = torch.device('cpu')\n",
    "X_test.to(device)\n",
    "y_test.to(device)\n",
    "\n",
    "with torch.no_grad(): #실제로 학습할 필요가 없을때 이 구문을 반드시 작성해야한다.\n",
    "    correct = 0\n",
    "    total = 0\n",
    "\n",
    "    for i, data in enumerate(X_test):\n",
    "        y_val = model.forward(data)\n",
    "        print(f'{i+1}) {str(y_val.argmax().item())} , {y_test[i]}')\n",
    "        total +=1\n",
    "\n",
    "        if y_val.argmax().item() == y_test[i]:\n",
    "          correct += 1\n",
    "\n",
    "    print(f'179개중 정답을 맞춘 갯수는 {correct}개 입니다!!')\n",
    "    print('Accuracy of the Network on the Test Images : {} %'.format(100 * correct/total))\n",
    "\n",
    "\n"
   ]
  }
 ],
 "metadata": {
  "colab": {
   "collapsed_sections": [],
   "name": "deep02_titanic_ws.ipynb",
   "provenance": []
  },
  "kernelspec": {
   "display_name": "Python 3",
   "language": "python",
   "name": "python3"
  },
  "language_info": {
   "codemirror_mode": {
    "name": "ipython",
    "version": 3
   },
   "file_extension": ".py",
   "mimetype": "text/x-python",
   "name": "python",
   "nbconvert_exporter": "python",
   "pygments_lexer": "ipython3",
   "version": "3.8.5"
  }
 },
 "nbformat": 4,
 "nbformat_minor": 1
}
