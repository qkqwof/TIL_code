{
  "nbformat": 4,
  "nbformat_minor": 0,
  "metadata": {
    "colab": {
      "name": "deep05_CIFAR10_keras.ipynb",
      "provenance": [],
      "collapsed_sections": []
    },
    "kernelspec": {
      "name": "python3",
      "display_name": "Python 3"
    },
    "language_info": {
      "name": "python"
    },
    "accelerator": "GPU"
  },
  "cells": [
    {
      "cell_type": "code",
      "metadata": {
        "id": "rEdqEENJevk1"
      },
      "source": [
        "import numpy as np\n",
        "from keras import datasets\n",
        "from keras import models, layers\n",
        "from keras.utils import np_utils\n",
        "import tensorflow as tf\n",
        "import matplotlib.pyplot as plt\n",
        "\n",
        "from keras import backend"
      ],
      "execution_count": 46,
      "outputs": []
    },
    {
      "cell_type": "code",
      "metadata": {
        "colab": {
          "base_uri": "https://localhost:8080/"
        },
        "id": "VwmxUW1pfFzB",
        "outputId": "fa4cc352-0ef0-4c9f-e84b-c65978d29d0a"
      },
      "source": [
        "# DataLoader\n",
        "(X_train, y_train), (X_test, y_test) = tf.keras.datasets.cifar10.load_data()\n",
        "X_train.shape # 흑백은 채널이 따로 없지만, CNN을 위해 채널 필요함"
      ],
      "execution_count": 47,
      "outputs": [
        {
          "output_type": "execute_result",
          "data": {
            "text/plain": [
              "(50000, 32, 32, 3)"
            ]
          },
          "metadata": {
            "tags": []
          },
          "execution_count": 47
        }
      ]
    },
    {
      "cell_type": "code",
      "metadata": {
        "id": "QN6vzKMPiGN-"
      },
      "source": [
        "H, W, C = X_train.shape[1:]"
      ],
      "execution_count": 48,
      "outputs": []
    },
    {
      "cell_type": "code",
      "metadata": {
        "id": "pdiUivbCfLlh"
      },
      "source": [
        "channel = backend.image_data_format()\n",
        "channel\n",
        "\n",
        "if channel == 'channels_first':\n",
        "    X_train = X_train.reshape(X_train.shape[0], C, H, W) # X_train.shape[0] 대신에 -1 써도 동일한 표현\n",
        "    X_test = X_test.reshape(X_test.shape[0], C, H, W)\n",
        "    input_shape = (C, H, W) # 채널이 앞으로 간다\n",
        "else:\n",
        "    X_train = X_train.reshape(X_train.shape[0], H, W, C)\n",
        "    X_test = X_test.reshape(X_test.shape[0], H, W, C)\n",
        "    input_shape = (H, W, C) # 채널이 뒤로 간다"
      ],
      "execution_count": 49,
      "outputs": []
    },
    {
      "cell_type": "code",
      "metadata": {
        "id": "sD5NdPYxgikA"
      },
      "source": [
        "# scaling\n",
        "X_train = X_train.astype('float32') / 255\n",
        "X_test = X_test.astype('float32') / 255"
      ],
      "execution_count": 50,
      "outputs": []
    },
    {
      "cell_type": "code",
      "metadata": {
        "id": "rp6SbfGYhMTo",
        "colab": {
          "base_uri": "https://localhost:8080/"
        },
        "outputId": "f75634c5-f1e2-46ce-c618-6ed64c6706c3"
      },
      "source": [
        "# y값 전처리하기...One Hot Encoding\n",
        "print(y_train[0])\n",
        "Y_train = np_utils.to_categorical(y_train)\n",
        "Y_test = np_utils.to_categorical(y_test)\n",
        "print(Y_train[0])"
      ],
      "execution_count": 51,
      "outputs": [
        {
          "output_type": "stream",
          "text": [
            "[6]\n",
            "[0. 0. 0. 0. 0. 0. 1. 0. 0. 0.]\n"
          ],
          "name": "stdout"
        }
      ]
    },
    {
      "cell_type": "code",
      "metadata": {
        "id": "e_YGN6WBhPIN"
      },
      "source": [
        "# # model 생성...77\n",
        "# model = models.Sequential()\n",
        "# model.add(layers.Conv2D(32, kernel_size=(3, 3), activation='relu', input_shape=input_shape, padding='same'))\n",
        "# model.add(layers.Dropout(0.25))\n",
        "# model.add(layers.Conv2D(64, kernel_size=(3, 3), activation='relu', padding='same'))\n",
        "# model.add(layers.BatchNormalization())\n",
        "# model.add(layers.MaxPool2D(pool_size=(2, 2)))\n",
        "# model.add(layers.Conv2D(128, kernel_size=(3, 3), activation='relu', padding='same'))\n",
        "# model.add(layers.Dropout(0.25))\n",
        "# model.add(layers.BatchNormalization())\n",
        "# model.add(layers.MaxPool2D(pool_size=(2, 2)))\n",
        "# # 마지막에 1차원으로 펼쳐서 FCN을 만든다.\n",
        "# model.add(layers.Flatten())\n",
        "# model.add(layers.Dense(1024, activation='relu'))\n",
        "# model.add(layers.Dropout(0.4))\n",
        "# model.add(layers.Dense(512, activation='relu'))\n",
        "# model.add(layers.Dropout(0.4))\n",
        "# model.add(layers.Dense(256, activation='relu'))\n",
        "# model.add(layers.Dropout(0.4))\n",
        "# model.add(layers.Dense(10, activation='softmax'))"
      ],
      "execution_count": 52,
      "outputs": []
    },
    {
      "cell_type": "code",
      "metadata": {
        "id": "ovNlSL9FtGj1"
      },
      "source": [
        "# model 생성\n",
        "model = models.Sequential()\n",
        "model.add(layers.Conv2D(32, (3, 3), activation='relu', input_shape=input_shape, padding='same'))\n",
        "model.add(layers.BatchNormalization())\n",
        "model.add(layers.Conv2D(32, (3, 3), activation='relu', padding='same'))\n",
        "model.add(layers.BatchNormalization())\n",
        "model.add(layers.MaxPooling2D((2, 2)))\n",
        "model.add(layers.Dropout(0.2))\n",
        "model.add(layers.Conv2D(64, (3, 3), activation='relu', padding='same'))\n",
        "model.add(layers.BatchNormalization())\n",
        "model.add(layers.Conv2D(64, (3, 3), activation='relu', padding='same'))\n",
        "model.add(layers.BatchNormalization())\n",
        "model.add(layers.MaxPooling2D((2, 2)))\n",
        "model.add(layers.Dropout(0.3))\n",
        "model.add(layers.Conv2D(128, (3, 3), activation='relu', padding='same'))\n",
        "model.add(layers.BatchNormalization())\n",
        "model.add(layers.Conv2D(128, (3, 3), activation='relu', padding='same'))\n",
        "model.add(layers.BatchNormalization())\n",
        "model.add(layers.MaxPooling2D((2, 2)))\n",
        "model.add(layers.Dropout(0.4))\n",
        "# 마지막에 1차원으로 펼쳐서 FCN을 만든다.\n",
        "model.add(layers.Flatten())\n",
        "model.add(layers.Dense(128, activation='relu'))\n",
        "model.add(layers.BatchNormalization())\n",
        "model.add(layers.Dropout(0.5))\n",
        "model.add(layers.Dense(10, activation='softmax'))"
      ],
      "execution_count": 53,
      "outputs": []
    },
    {
      "cell_type": "code",
      "metadata": {
        "id": "qlpvfC6GhUtM"
      },
      "source": [
        "# compile\n",
        "model.compile('adam', 'categorical_crossentropy', 'accuracy')"
      ],
      "execution_count": 54,
      "outputs": []
    },
    {
      "cell_type": "code",
      "metadata": {
        "id": "SQPPik_RhWOT",
        "colab": {
          "base_uri": "https://localhost:8080/"
        },
        "outputId": "b5e9fea5-fc9a-429e-9cc0-e0a2ab340b17"
      },
      "source": [
        "# fit&history\n",
        "history = model.fit(X_train, Y_train, epochs=50, batch_size=128, validation_split=0.2)"
      ],
      "execution_count": 55,
      "outputs": [
        {
          "output_type": "stream",
          "text": [
            "Epoch 1/50\n",
            "313/313 [==============================] - 7s 14ms/step - loss: 2.1883 - accuracy: 0.3180 - val_loss: 2.9108 - val_accuracy: 0.1357\n",
            "Epoch 2/50\n",
            "313/313 [==============================] - 4s 12ms/step - loss: 1.2865 - accuracy: 0.5360 - val_loss: 1.0410 - val_accuracy: 0.6278\n",
            "Epoch 3/50\n",
            "313/313 [==============================] - 4s 11ms/step - loss: 1.0395 - accuracy: 0.6285 - val_loss: 0.8796 - val_accuracy: 0.6873\n",
            "Epoch 4/50\n",
            "313/313 [==============================] - 4s 12ms/step - loss: 0.9029 - accuracy: 0.6808 - val_loss: 0.7739 - val_accuracy: 0.7247\n",
            "Epoch 5/50\n",
            "313/313 [==============================] - 4s 11ms/step - loss: 0.8162 - accuracy: 0.7145 - val_loss: 0.8356 - val_accuracy: 0.7132\n",
            "Epoch 6/50\n",
            "313/313 [==============================] - 4s 12ms/step - loss: 0.7453 - accuracy: 0.7391 - val_loss: 0.7076 - val_accuracy: 0.7500\n",
            "Epoch 7/50\n",
            "313/313 [==============================] - 4s 12ms/step - loss: 0.6955 - accuracy: 0.7591 - val_loss: 0.7293 - val_accuracy: 0.7391\n",
            "Epoch 8/50\n",
            "313/313 [==============================] - 4s 12ms/step - loss: 0.6358 - accuracy: 0.7817 - val_loss: 0.6152 - val_accuracy: 0.7861\n",
            "Epoch 9/50\n",
            "313/313 [==============================] - 4s 11ms/step - loss: 0.6008 - accuracy: 0.7909 - val_loss: 0.6095 - val_accuracy: 0.7851\n",
            "Epoch 10/50\n",
            "313/313 [==============================] - 4s 11ms/step - loss: 0.5689 - accuracy: 0.8016 - val_loss: 0.5637 - val_accuracy: 0.8084\n",
            "Epoch 11/50\n",
            "313/313 [==============================] - 4s 11ms/step - loss: 0.5308 - accuracy: 0.8152 - val_loss: 0.5969 - val_accuracy: 0.7970\n",
            "Epoch 12/50\n",
            "313/313 [==============================] - 4s 11ms/step - loss: 0.5008 - accuracy: 0.8286 - val_loss: 0.5810 - val_accuracy: 0.8034\n",
            "Epoch 13/50\n",
            "313/313 [==============================] - 4s 11ms/step - loss: 0.4720 - accuracy: 0.8330 - val_loss: 0.6001 - val_accuracy: 0.7992\n",
            "Epoch 14/50\n",
            "313/313 [==============================] - 4s 12ms/step - loss: 0.4503 - accuracy: 0.8444 - val_loss: 0.6455 - val_accuracy: 0.7878\n",
            "Epoch 15/50\n",
            "313/313 [==============================] - 4s 12ms/step - loss: 0.4294 - accuracy: 0.8496 - val_loss: 0.5206 - val_accuracy: 0.8220\n",
            "Epoch 16/50\n",
            "313/313 [==============================] - 4s 11ms/step - loss: 0.4052 - accuracy: 0.8591 - val_loss: 0.5471 - val_accuracy: 0.8200\n",
            "Epoch 17/50\n",
            "313/313 [==============================] - 4s 12ms/step - loss: 0.3961 - accuracy: 0.8647 - val_loss: 0.5355 - val_accuracy: 0.8220\n",
            "Epoch 18/50\n",
            "313/313 [==============================] - 4s 11ms/step - loss: 0.3840 - accuracy: 0.8676 - val_loss: 0.5367 - val_accuracy: 0.8215\n",
            "Epoch 19/50\n",
            "313/313 [==============================] - 4s 11ms/step - loss: 0.3716 - accuracy: 0.8695 - val_loss: 0.4974 - val_accuracy: 0.8354\n",
            "Epoch 20/50\n",
            "313/313 [==============================] - 4s 11ms/step - loss: 0.3472 - accuracy: 0.8775 - val_loss: 0.5160 - val_accuracy: 0.8329\n",
            "Epoch 21/50\n",
            "313/313 [==============================] - 4s 11ms/step - loss: 0.3404 - accuracy: 0.8812 - val_loss: 0.5622 - val_accuracy: 0.8195\n",
            "Epoch 22/50\n",
            "313/313 [==============================] - 4s 11ms/step - loss: 0.3270 - accuracy: 0.8876 - val_loss: 0.5311 - val_accuracy: 0.8256\n",
            "Epoch 23/50\n",
            "313/313 [==============================] - 4s 11ms/step - loss: 0.3217 - accuracy: 0.8906 - val_loss: 0.5102 - val_accuracy: 0.8344\n",
            "Epoch 24/50\n",
            "313/313 [==============================] - 4s 12ms/step - loss: 0.3115 - accuracy: 0.8907 - val_loss: 0.5051 - val_accuracy: 0.8463\n",
            "Epoch 25/50\n",
            "313/313 [==============================] - 4s 12ms/step - loss: 0.2973 - accuracy: 0.8956 - val_loss: 0.4879 - val_accuracy: 0.8439\n",
            "Epoch 26/50\n",
            "313/313 [==============================] - 4s 11ms/step - loss: 0.2981 - accuracy: 0.8953 - val_loss: 0.4873 - val_accuracy: 0.8474\n",
            "Epoch 27/50\n",
            "313/313 [==============================] - 4s 11ms/step - loss: 0.2828 - accuracy: 0.9038 - val_loss: 0.5099 - val_accuracy: 0.8431\n",
            "Epoch 28/50\n",
            "313/313 [==============================] - 4s 11ms/step - loss: 0.2722 - accuracy: 0.9041 - val_loss: 0.5450 - val_accuracy: 0.8361\n",
            "Epoch 29/50\n",
            "313/313 [==============================] - 4s 11ms/step - loss: 0.2628 - accuracy: 0.9070 - val_loss: 0.5364 - val_accuracy: 0.8364\n",
            "Epoch 30/50\n",
            "313/313 [==============================] - 4s 11ms/step - loss: 0.2552 - accuracy: 0.9109 - val_loss: 0.5028 - val_accuracy: 0.8450\n",
            "Epoch 31/50\n",
            "313/313 [==============================] - 4s 11ms/step - loss: 0.2542 - accuracy: 0.9106 - val_loss: 0.5252 - val_accuracy: 0.8389\n",
            "Epoch 32/50\n",
            "313/313 [==============================] - 4s 11ms/step - loss: 0.2440 - accuracy: 0.9144 - val_loss: 0.4836 - val_accuracy: 0.8548\n",
            "Epoch 33/50\n",
            "313/313 [==============================] - 4s 12ms/step - loss: 0.2432 - accuracy: 0.9146 - val_loss: 0.5310 - val_accuracy: 0.8433\n",
            "Epoch 34/50\n",
            "313/313 [==============================] - 4s 11ms/step - loss: 0.2365 - accuracy: 0.9160 - val_loss: 0.5058 - val_accuracy: 0.8518\n",
            "Epoch 35/50\n",
            "313/313 [==============================] - 4s 12ms/step - loss: 0.2352 - accuracy: 0.9170 - val_loss: 0.5292 - val_accuracy: 0.8451\n",
            "Epoch 36/50\n",
            "313/313 [==============================] - 4s 11ms/step - loss: 0.2272 - accuracy: 0.9201 - val_loss: 0.5057 - val_accuracy: 0.8489\n",
            "Epoch 37/50\n",
            "313/313 [==============================] - 4s 11ms/step - loss: 0.2176 - accuracy: 0.9237 - val_loss: 0.5832 - val_accuracy: 0.8283\n",
            "Epoch 38/50\n",
            "313/313 [==============================] - 4s 11ms/step - loss: 0.2124 - accuracy: 0.9238 - val_loss: 0.5074 - val_accuracy: 0.8529\n",
            "Epoch 39/50\n",
            "313/313 [==============================] - 4s 11ms/step - loss: 0.2128 - accuracy: 0.9258 - val_loss: 0.5267 - val_accuracy: 0.8459\n",
            "Epoch 40/50\n",
            "313/313 [==============================] - 4s 11ms/step - loss: 0.2126 - accuracy: 0.9253 - val_loss: 0.4753 - val_accuracy: 0.8605\n",
            "Epoch 41/50\n",
            "313/313 [==============================] - 4s 12ms/step - loss: 0.2092 - accuracy: 0.9278 - val_loss: 0.4966 - val_accuracy: 0.8530\n",
            "Epoch 42/50\n",
            "313/313 [==============================] - 4s 12ms/step - loss: 0.1888 - accuracy: 0.9336 - val_loss: 0.5005 - val_accuracy: 0.8531\n",
            "Epoch 43/50\n",
            "313/313 [==============================] - 4s 11ms/step - loss: 0.2001 - accuracy: 0.9270 - val_loss: 0.5618 - val_accuracy: 0.8430\n",
            "Epoch 44/50\n",
            "313/313 [==============================] - 4s 12ms/step - loss: 0.1909 - accuracy: 0.9315 - val_loss: 0.5089 - val_accuracy: 0.8534\n",
            "Epoch 45/50\n",
            "313/313 [==============================] - 4s 12ms/step - loss: 0.1834 - accuracy: 0.9358 - val_loss: 0.5538 - val_accuracy: 0.8451\n",
            "Epoch 46/50\n",
            "313/313 [==============================] - 4s 12ms/step - loss: 0.1896 - accuracy: 0.9346 - val_loss: 0.4919 - val_accuracy: 0.8581\n",
            "Epoch 47/50\n",
            "313/313 [==============================] - 4s 12ms/step - loss: 0.1843 - accuracy: 0.9355 - val_loss: 0.5498 - val_accuracy: 0.8477\n",
            "Epoch 48/50\n",
            "313/313 [==============================] - 4s 12ms/step - loss: 0.1882 - accuracy: 0.9359 - val_loss: 0.4953 - val_accuracy: 0.8570\n",
            "Epoch 49/50\n",
            "313/313 [==============================] - 4s 12ms/step - loss: 0.1793 - accuracy: 0.9373 - val_loss: 0.4857 - val_accuracy: 0.8625\n",
            "Epoch 50/50\n",
            "313/313 [==============================] - 4s 12ms/step - loss: 0.1740 - accuracy: 0.9375 - val_loss: 0.5507 - val_accuracy: 0.8470\n"
          ],
          "name": "stdout"
        }
      ]
    },
    {
      "cell_type": "code",
      "metadata": {
        "id": "zjfkl3IChXuN",
        "colab": {
          "base_uri": "https://localhost:8080/"
        },
        "outputId": "8af72f44-01a5-4128-9567-5694d8c74310"
      },
      "source": [
        "# evaluation\n",
        "score = model.evaluate(X_test, Y_test)\n",
        "print(\"Loss : {}, Accuracy : {}\".format(*score))"
      ],
      "execution_count": 56,
      "outputs": [
        {
          "output_type": "stream",
          "text": [
            "313/313 [==============================] - 1s 3ms/step - loss: 0.5895 - accuracy: 0.8407\n",
            "Loss : 0.58954256772995, Accuracy : 0.8406999707221985\n"
          ],
          "name": "stdout"
        }
      ]
    },
    {
      "cell_type": "code",
      "metadata": {
        "id": "RnsXfoiwhZEX"
      },
      "source": [
        "# 시각화\n",
        "def plot_loss(history):\n",
        "    plt.plot(history.history['loss'])\n",
        "    plt.plot(history.history['val_loss'])\n",
        "    plt.title('Model Loss')\n",
        "    plt.ylabel('Loss')\n",
        "    plt.xlabel('Epoch')\n",
        "    plt.legend(['Train', 'Validation'])\n",
        "\n",
        "def plot_accuracy(history):\n",
        "    plt.plot(history.history['accuracy'])\n",
        "    plt.plot(history.history['val_accuracy'])\n",
        "    plt.title('Model Accuracy')\n",
        "    plt.ylabel('Accuracy')\n",
        "    plt.xlabel('Epoch')\n",
        "    plt.legend(['Train', 'Validation'])"
      ],
      "execution_count": 57,
      "outputs": []
    },
    {
      "cell_type": "code",
      "metadata": {
        "id": "lvK05JVXhaQK",
        "colab": {
          "base_uri": "https://localhost:8080/",
          "height": 295
        },
        "outputId": "29d49bad-6bfe-4902-9dbd-cbdf672af754"
      },
      "source": [
        "plot_loss(history)"
      ],
      "execution_count": 58,
      "outputs": [
        {
          "output_type": "display_data",
          "data": {
            "image/png": "[encoded data removed]",
            "text/plain": [
              "<Figure size 432x288 with 1 Axes>"
            ]
          },
          "metadata": {
            "tags": [],
            "needs_background": "light"
          }
        }
      ]
    },
    {
      "cell_type": "code",
      "metadata": {
        "id": "recvmYcqhbvK",
        "colab": {
          "base_uri": "https://localhost:8080/",
          "height": 295
        },
        "outputId": "567d3538-79ad-4511-b241-9d26a0b00478"
      },
      "source": [
        "plot_accuracy(history)"
      ],
      "execution_count": 59,
      "outputs": [
        {
          "output_type": "display_data",
          "data": {
            "image/png": "[encoded data removed]",
            "text/plain": [
              "<Figure size 432x288 with 1 Axes>"
            ]
          },
          "metadata": {
            "tags": [],
            "needs_background": "light"
          }
        }
      ]
    },
    {
      "cell_type": "code",
      "metadata": {
        "colab": {
          "base_uri": "https://localhost:8080/"
        },
        "id": "mm-RDeCjqTbF",
        "outputId": "ebce23d6-3fdf-4c95-adba-5939df7bf1a7"
      },
      "source": [
        "model.summary()"
      ],
      "execution_count": 60,
      "outputs": [
        {
          "output_type": "stream",
          "text": [
            "Model: \"sequential_3\"\n",
            "_________________________________________________________________\n",
            "Layer (type)                 Output Shape              Param #   \n",
            "=================================================================\n",
            "conv2d_9 (Conv2D)            (None, 32, 32, 32)        896       \n",
            "_________________________________________________________________\n",
            "batch_normalization_6 (Batch (None, 32, 32, 32)        128       \n",
            "_________________________________________________________________\n",
            "conv2d_10 (Conv2D)           (None, 32, 32, 32)        9248      \n",
            "_________________________________________________________________\n",
            "batch_normalization_7 (Batch (None, 32, 32, 32)        128       \n",
            "_________________________________________________________________\n",
            "max_pooling2d_6 (MaxPooling2 (None, 16, 16, 32)        0         \n",
            "_________________________________________________________________\n",
            "dropout_15 (Dropout)         (None, 16, 16, 32)        0         \n",
            "_________________________________________________________________\n",
            "conv2d_11 (Conv2D)           (None, 16, 16, 64)        18496     \n",
            "_________________________________________________________________\n",
            "batch_normalization_8 (Batch (None, 16, 16, 64)        256       \n",
            "_________________________________________________________________\n",
            "conv2d_12 (Conv2D)           (None, 16, 16, 64)        36928     \n",
            "_________________________________________________________________\n",
            "batch_normalization_9 (Batch (None, 16, 16, 64)        256       \n",
            "_________________________________________________________________\n",
            "max_pooling2d_7 (MaxPooling2 (None, 8, 8, 64)          0         \n",
            "_________________________________________________________________\n",
            "dropout_16 (Dropout)         (None, 8, 8, 64)          0         \n",
            "_________________________________________________________________\n",
            "conv2d_13 (Conv2D)           (None, 8, 8, 128)         73856     \n",
            "_________________________________________________________________\n",
            "batch_normalization_10 (Batc (None, 8, 8, 128)         512       \n",
            "_________________________________________________________________\n",
            "conv2d_14 (Conv2D)           (None, 8, 8, 128)         147584    \n",
            "_________________________________________________________________\n",
            "batch_normalization_11 (Batc (None, 8, 8, 128)         512       \n",
            "_________________________________________________________________\n",
            "max_pooling2d_8 (MaxPooling2 (None, 4, 4, 128)         0         \n",
            "_________________________________________________________________\n",
            "dropout_17 (Dropout)         (None, 4, 4, 128)         0         \n",
            "_________________________________________________________________\n",
            "flatten_3 (Flatten)          (None, 2048)              0         \n",
            "_________________________________________________________________\n",
            "dense_12 (Dense)             (None, 128)               262272    \n",
            "_________________________________________________________________\n",
            "batch_normalization_12 (Batc (None, 128)               512       \n",
            "_________________________________________________________________\n",
            "dropout_18 (Dropout)         (None, 128)               0         \n",
            "_________________________________________________________________\n",
            "dense_13 (Dense)             (None, 10)                1290      \n",
            "=================================================================\n",
            "Total params: 552,874\n",
            "Trainable params: 551,722\n",
            "Non-trainable params: 1,152\n",
            "_________________________________________________________________\n"
          ],
          "name": "stdout"
        }
      ]
    }
  ]
}